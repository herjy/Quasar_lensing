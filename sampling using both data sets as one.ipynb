{
 "cells": [
  {
   "cell_type": "code",
   "execution_count": 29,
   "metadata": {},
   "outputs": [],
   "source": [
    "import numpy as np\n",
    "import matplotlib.pyplot as plt\n",
    "from scipy.optimize import curve_fit\n",
    "from math import *\n",
    "from astroML.time_series import generate_damped_RW\n",
    "import argparse\n",
    "import random\n",
    "%matplotlib qt\n",
    "#%matplotlib inline"
   ]
  },
  {
   "cell_type": "code",
   "execution_count": 30,
   "metadata": {},
   "outputs": [],
   "source": [
    "data = np.loadtxt('RXJ1131_ALL.rdb',skiprows=2)\n",
    "data1=np.genfromtxt('HE0435_ECAM.rdb',skip_header=2)\n",
    "time = np.sort(np.concatenate((data[:,0],data1[:,0])))"
   ]
  },
  {
   "cell_type": "code",
   "execution_count": 31,
   "metadata": {},
   "outputs": [],
   "source": [
    "def hist_day(array,bins_):\n",
    "    diff = np.array([])\n",
    "    for i in range(1,len(array)):\n",
    "        diff = np.append(diff,array[i]-array[i-1])\n",
    "    rounded=np.round(diff)\n",
    "    rounded = rounded[rounded<30]\n",
    "    plt.hist(rounded,bins=bins_)\n",
    "    plt.title('differences in days between observations (rounded)')\n",
    "    plt.xlabel('time[days]')\n",
    "    plt.ylabel('frequency')\n",
    "    return diff,rounded,plt.show()\n",
    "rounded = hist_day(time,200)[1]"
   ]
  },
  {
   "cell_type": "code",
   "execution_count": 32,
   "metadata": {
    "scrolled": true
   },
   "outputs": [],
   "source": [
    "def hist_time(array,bins_):\n",
    "    day_time = np.array([])\n",
    "    for i in range(1,len(array)):\n",
    "        day_time = np.append(day_time,array[i]-np.floor(array[i]))\n",
    "    plt.hist(day_time,bins=bins_)\n",
    "    plt.xlabel('time [days]')\n",
    "    plt.ylabel('frequency')\n",
    "    plt.title('times of observation during the day')\n",
    "    return day_time, plt.show()\n",
    "day_time = hist_time(time,200)[0]"
   ]
  },
  {
   "cell_type": "code",
   "execution_count": 33,
   "metadata": {
    "scrolled": false
   },
   "outputs": [],
   "source": [
    "def sample_data(array,data_name,num,flag=False):  # array = time arrays\n",
    "    '''array is the data to sample from\n",
    "        data_name is the name of the data set\n",
    "        num is the number of random values we want sampled\n",
    "        flag: should be set to True if the random samples numbers need to be rounded'''\n",
    "    bins_= 200\n",
    "    data = array\n",
    "    hist, bins = np.histogram(array, bins=bins_)\n",
    "\n",
    "    bin_midpoints = bins[:-1] + np.diff(bins)/2\n",
    "    cdf = np.cumsum(hist)\n",
    "    cdf = cdf / cdf[-1]\n",
    "    values = np.random.rand(num)\n",
    "    value_bins = np.searchsorted(cdf, values)\n",
    "    random_from_cdf = bin_midpoints[value_bins]\n",
    "    f = plt.figure(figsize=(10,3))\n",
    "    f.add_subplot(121)\n",
    "    plt.hist(data, bins_)\n",
    "    plt.ylabel('frequency')\n",
    "    plt.xlabel('times[days]')\n",
    "    plt.title(data_name)\n",
    "    f.add_subplot(122)\n",
    "    if flag==True:\n",
    "        random_from_cdf = np.round(random_from_cdf)\n",
    "    plt.hist(random_from_cdf, bins_)\n",
    "    plt.title('sampled from '+data_name)\n",
    "    plt.ylabel('frequency')\n",
    "    plt.xlabel('times[days]')\n",
    "    return plt.show(),random_from_cdf\n",
    "rand_days_ = sample_data(rounded,'All data - days',len(time)*2,True)[1]\n",
    "rand_times_ = sample_data(day_time,'All data - day times',len(time)*2)[1]\n",
    "rand_obs_diff = rand_days_+rand_times_"
   ]
  },
  {
   "cell_type": "code",
   "execution_count": 34,
   "metadata": {
    "scrolled": true
   },
   "outputs": [],
   "source": [
    "t_drive_new = np.array([np.min(time)])\n",
    "i=0\n",
    "while (np.max(t_drive_new)<np.max(time)) and (len(t_drive_new)<len(time)):\n",
    "    t_drive_new = np.append(t_drive_new,t_drive_new[-1]+rand_obs_diff[i])\n",
    "    i+=1"
   ]
  },
  {
   "cell_type": "code",
   "execution_count": 35,
   "metadata": {
    "scrolled": true
   },
   "outputs": [
    {
     "name": "stdout",
     "output_type": "stream",
     "text": [
      "I dont know how to make sense of these, if they are supposed to be similar or not\n"
     ]
    }
   ],
   "source": [
    "g = plt.figure(figsize=(10,3))\n",
    "g.add_subplot(121)\n",
    "plt.hist(time,200)\n",
    "plt.title('observed time of real data')\n",
    "plt.xlabel('time[days]')\n",
    "plt.ylabel('frequency')\n",
    "g.add_subplot(122)\n",
    "plt.hist(t_drive_new,200)\n",
    "plt.ylim(0,30)\n",
    "plt.title('observed time of simulated data')\n",
    "plt.xlabel('time[days]')\n",
    "plt.ylabel('frequency')\n",
    "plt.show()\n",
    "print('I dont know how to make sense of these, if they are supposed to be similar or not')"
   ]
  },
  {
   "cell_type": "code",
   "execution_count": 36,
   "metadata": {
    "scrolled": true
   },
   "outputs": [],
   "source": [
    "'''simulating data using the sampling about as the time axis'''\n",
    "\n",
    "parser = argparse.ArgumentParser(formatter_class=argparse.ArgumentDefaultsHelpFormatter)\n",
    "parser.add_argument('--time_initial'  , '-ti  ', type=float, default=-365.        ,help='Set the initial time (default: t=-365 [day])')\n",
    "parser.add_argument('--time_final'    , '-tf  ', type=float, default=365.         ,help='Set the final time (default: t=365 [day])')\n",
    "parser.add_argument('--delta_time'    , '-dt  ', type=float, default=0.1          ,help='Set the time interval (default: dt=0.1 [day])')\n",
    "parser.add_argument('--fname'         , '-fn  ', type=str  , default='LC_DRW.txt' ,help='Set the output filename (default: LC_DRW.txt)')\n",
    "\n",
    "parser.add_argument('--tau'           , '-tau ', type=float, default=300          ,help='Set the relaxation time (default: tau=300)')\n",
    "parser.add_argument('--strc_func_inf' , '-sf  ', type=float, default=0.1          ,help='Set the structure function at infinity (default: SFinf=0.1)')\n",
    "parser.add_argument('--xmean'         , '-xmu ', type=float, default=1.           ,help='Set the mean value of random walk (default: Xmean=1.)')\n",
    "parser.add_argument('--ran_seed'      , '-sn  ', type=str  , default='123'        ,help='Set the random seed (r: random, snnn: random seed)')\n",
    "parser.add_argument('--redshift_src'  , '-zs'  , type=float, default=0.5          ,help='Set the redshift of source (default: zs=0.5)')\n",
    "\n",
    "parser.add_argument('--target_dir'    , '-td'  ,             default='.',          help='Set the output directory')\n",
    "\n",
    "\n",
    "args = parser.parse_args()\n",
    "\n",
    "ti = args.time_initial\n",
    "tf = args.time_final\n",
    "dt = args.delta_time\n",
    "fn = args.fname\n",
    "\n",
    "xmean = args.xmean\n",
    "tau = args.tau\n",
    "SFinf = args.strc_func_inf\n",
    "zs = args.redshift_src\n",
    "sn = args.ran_seed\n",
    "\n",
    "stem_out = args.target_dir\n",
    "\n",
    "\n",
    "if (sn == 'r'):\n",
    "    np.random.seed()\n",
    "else:\n",
    "    sn = int(sn)\n",
    "    np.random.seed(sn)\n",
    "\n",
    "###########################################\n",
    "\n",
    "\n",
    "########################\n",
    "#      light curve     #\n",
    "########################\n",
    "\n",
    "for i in [1]:\n",
    "\n",
    "    sn = np.random.randn(1)\n",
    "\n",
    "#     print('-------------------------------')\n",
    "#     print('       light curve (DRW)       ')\n",
    "#     print('-------------------------------')\n",
    "#     print('Xmean =',xmean)\n",
    "#     print('tau   =',tau,'day')\n",
    "#     print('zs    =',zs)\n",
    "#     print('SFinf =','{0:.3f}'.format(SFinf))\n",
    "#     print('sn    =',sn)\n",
    "\n",
    "    \n",
    "    dt = rand_times_\n",
    "    \n",
    "    t_drive = t_drive_new\n",
    "    f_drive = generate_damped_RW(t_drive, tau=tau, z=zs, SFinf=SFinf, xmean=xmean)\n",
    "    \n",
    "\n",
    "    f_drive = abs(f_drive)\n",
    "    mean = np.mean(f_drive)\n",
    "    std  = np.std( f_drive)\n",
    "\n",
    "#     print('Light Curve:','from',ti,'to',tf,'days')\n",
    "#     print('mean =','{0:.3f}'.format(mean),'std =','{0:.3f}'.format(std))\n",
    "\n",
    "    fn = stem_out+'/'+fn\n",
    "\n",
    "    #np.savetxt(fn,np.array([t_drive, f_drive]).T,fmt='%f')\n",
    "\n",
    "    plt.plot(t_drive, f_drive, 'o', color='black', label='DRW')\n",
    "    plt.xlabel('t (days)')\n",
    "    plt.ylabel('Fraction Variation')\n",
    "    plt.legend(loc=3)\n",
    "    plt.show()"
   ]
  },
  {
   "cell_type": "code",
   "execution_count": null,
   "metadata": {},
   "outputs": [],
   "source": []
  },
  {
   "cell_type": "code",
   "execution_count": null,
   "metadata": {},
   "outputs": [],
   "source": []
  },
  {
   "cell_type": "code",
   "execution_count": null,
   "metadata": {},
   "outputs": [],
   "source": []
  },
  {
   "cell_type": "code",
   "execution_count": null,
   "metadata": {},
   "outputs": [],
   "source": []
  }
 ],
 "metadata": {
  "kernelspec": {
   "display_name": "Python 3",
   "language": "python",
   "name": "python3"
  },
  "language_info": {
   "codemirror_mode": {
    "name": "ipython",
    "version": 3
   },
   "file_extension": ".py",
   "mimetype": "text/x-python",
   "name": "python",
   "nbconvert_exporter": "python",
   "pygments_lexer": "ipython3",
   "version": "3.7.1"
  }
 },
 "nbformat": 4,
 "nbformat_minor": 2
}
