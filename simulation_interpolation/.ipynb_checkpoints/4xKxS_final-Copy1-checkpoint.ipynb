{
 "cells": [
  {
   "cell_type": "code",
   "execution_count": 32,
   "metadata": {},
   "outputs": [],
   "source": [
    "from simulation_functions import index, simulation_, plot\n",
    "from interpolation_functions import T_K\n",
    "from make_noise import simulate_noise\n",
    "import numpy as np\n",
    "import matplotlib.pyplot as plt\n",
    "#%matplotlib inline\n",
    "%matplotlib qt\n",
    "\n",
    "\n",
    "sim = simulate_noise()\n",
    "ts = sim[0]\n",
    "fs = sim[1] # without noise\n",
    "\n",
    "sampling = 3\n",
    "# desired sampling for each curve\n",
    "tk = np.array([T_K(sampling,ts[0])[0],T_K(sampling,ts[1])[0],T_K(sampling,ts[2])[0],T_K(sampling,ts[3])[0]]) # desired sampling is 3 days here\n",
    "\n",
    "h=sampling\n",
    "time_delays = sim[2]\n",
    "\n",
    "# sinc matrix\n",
    "matrix = []\n",
    "for i in range(4):\n",
    "    matrix.append(np.array([(ts[i][:,np.newaxis]+time_delays[i])-tk[i][np.newaxis,:]])) #\n",
    "matrix = np.array(matrix)\n",
    "\n",
    "A = np.sinc(np.concatenate([matrix[0],matrix[1],matrix[2],matrix[3]],axis =0)/h)\n",
    "\n",
    "Y= np.concatenate([fs[0][np.newaxis,:],fs[1][np.newaxis,:],fs[2][np.newaxis,:],fs[3][np.newaxis,:]])"
   ]
  },
  {
   "cell_type": "code",
   "execution_count": null,
   "metadata": {},
   "outputs": [],
   "source": []
  },
  {
   "cell_type": "code",
   "execution_count": 33,
   "metadata": {},
   "outputs": [],
   "source": [
    "# multiplication functions:\n",
    "noise_std = sim[3]\n",
    "def AT(X,A,Y, noise): \n",
    "    '''\n",
    "    calculateS the weighted mean of A.T(Y-AX)\n",
    "    input:\n",
    "    X : array with shape k, solution of interpolation\n",
    "    A : tensor of shape 4xkxs, sinc matrix\n",
    "    Y : matrix of shape 4xs, magnitudes of original time sampling\n",
    "    '''\n",
    "    weighted_mean = 0\n",
    "    nl, ns, nx = A.shape\n",
    "    for i in range(nl):\n",
    "        weighted_mean += np.dot(A[i].T, Y[i] - A[i] @ X)#/np.sum(1/(noise**2)) ((1/noise[i])**2)*\n",
    "    \n",
    "    return weighted_mean\n",
    "\n",
    "def multiplication(X,S): # X.S\n",
    "    '''\n",
    "    multiplies X by S[i] and takes the arithmetic mean\n",
    "    '''\n",
    "    this =[]\n",
    "    for i in range(4):\n",
    "        this.append(np.dot(X,S[i]))\n",
    "    this = np.array(this)\n",
    "    return np.mean(this,axis=0)\n",
    "\n",
    "def multiplication_T(X,S): # X.S.T\n",
    "\n",
    "    '''\n",
    "    multiplies X by S[i].T and take the arithmetic mean\n",
    "    '''\n",
    "    this =[]\n",
    "    for i in range(4):\n",
    "        this.append(np.dot(X,S[i].T))\n",
    "    this = np.array(this)\n",
    "    return np.mean(this,axis=0)"
   ]
  },
  {
   "cell_type": "code",
   "execution_count": 34,
   "metadata": {
    "scrolled": true
   },
   "outputs": [],
   "source": [
    "# def linorm(S, nit):\n",
    "#     x0 = np.random.rand(S.shape[1])  # chose [1] per the implementation of the power iteration method in wiki\n",
    "#     x0 = x0 /np.linalg.norm(x0)\n",
    "#     for i in range(nit):\n",
    "#         x = multiplication(x0,S)#np.dot(x0,S)\n",
    "#         xn = np.linalg.norm(x)\n",
    "#         xp = x / xn#     \n",
    "#         y = multiplication_T(xp,S) # the S.T is done within the functionas S[i].T not S.T[i]\n",
    "#         yn = np.linalg.norm(y)  \n",
    "#         x0 = y / yn\n",
    "#     return 1./xn\n",
    "mu = 0.0038 #linorm(A,20)/170 # = 0.0038\n",
    "\n",
    "X = np.zeros(len(tk[0]))\n",
    "\n",
    "count = 0\n",
    "R = [np.sum(Y ** 2)]\n",
    "epsilon = 0.3\n",
    "\n",
    "\n",
    "while (R[-1] > epsilon) and (\n",
    "        count < 5000):  # 5000 is a good amount of counts\n",
    "#     if count % 100 == 0:\n",
    "#         print('iteration {}'.format(count))\n",
    "    X_new = X + mu * AT(X,A,Y, noise_std)\n",
    "    X = X_new.copy()\n",
    "    R.append(np.sum((Y - A @ X) ** 2.))\n",
    "    count += 1\n",
    "\n",
    "\n",
    "plt.title('Convergence')\n",
    "plt.plot(np.array(R[1:]))\n",
    "plt.xlabel('iterations')\n",
    "plt.ylabel('error')\n",
    "plt.show()\n",
    "\n",
    "\n"
   ]
  },
  {
   "cell_type": "code",
   "execution_count": 41,
   "metadata": {},
   "outputs": [],
   "source": [
    "%matplotlib qt\n",
    "\n",
    "\n",
    "#plt.plot(t_drive, f_truth, 'o', color='black', label='DRW- True')\n",
    "plt.plot(t, mag0, 'o', label='DRW1')  \n",
    "plt.plot(t, mag1, 'o',  label='DRW2')  \n",
    "plt.plot(t ,mag2, 'o', label='DRW3')  \n",
    "plt.plot(t, mag3, 'o', label='DRW4')  \n",
    "\n",
    "plt.title('time shifted curves')\n",
    "plt.xlabel('t (days)')\n",
    "plt.ylabel('Fraction Variation')\n",
    "plt.legend()\n",
    "plt.show()\n"
   ]
  },
  {
   "cell_type": "code",
   "execution_count": 80,
   "metadata": {},
   "outputs": [],
   "source": [
    "t = np.loadtxt('t_drive_new.txt') \n",
    "mag0,mag1,mag2,mag3 = Y[0],Y[1],Y[2],Y[3]\n",
    "delay = time_delays\n",
    "#plt.plot(t_drive, f_truth, color='black', label='DRW- True')\n",
    "plt.plot(ts[0], mag0,'o', label='DRW1')  #+0.3\n",
    "plt.plot(ts[1], mag1, 'o',  label='DRW2')  #+0.6\n",
    "plt.plot(ts[2] ,mag2, 'o', label='DRW3')  #+0.9\n",
    "plt.plot(ts[3], mag3, 'o', label='DRW4')  #+0.12\n",
    "plt.plot(np.floor(tk[0][cut]-delay[0]), X[cut],'o', label='interpolated', color='black') #\n",
    "\n",
    "plt.title('shifting back and alligning all curves')\n",
    "plt.xlabel('t (days)')\n",
    "plt.ylabel('Fraction Variation')\n",
    "plt.legend()\n",
    "plt.show()"
   ]
  },
  {
   "cell_type": "code",
   "execution_count": 75,
   "metadata": {},
   "outputs": [
    {
     "data": {
      "text/plain": [
       "array([ True,  True,  True, ...,  True,  True,  True])"
      ]
     },
     "execution_count": 75,
     "metadata": {},
     "output_type": "execute_result"
    }
   ],
   "source": [
    "t+delay[1] == ts[1]"
   ]
  },
  {
   "cell_type": "code",
   "execution_count": 58,
   "metadata": {},
   "outputs": [
    {
     "data": {
      "text/plain": [
       "array([52988.67881498, 52991.67881498, 52994.67881498, ...,\n",
       "       57610.67881498, 57613.67881498, 57617.67881498])"
      ]
     },
     "execution_count": 58,
     "metadata": {},
     "output_type": "execute_result"
    }
   ],
   "source": [
    "tk[0]-delay[0]"
   ]
  },
  {
   "cell_type": "code",
   "execution_count": 62,
   "metadata": {},
   "outputs": [
    {
     "data": {
      "text/plain": [
       "array([ True,  True,  True, ...,  True,  True,  True])"
      ]
     },
     "execution_count": 62,
     "metadata": {},
     "output_type": "execute_result"
    }
   ],
   "source": [
    "np.floor(tk[1]-delay[1]) == np.floor(tk[0]-delay[0])"
   ]
  },
  {
   "cell_type": "code",
   "execution_count": 35,
   "metadata": {},
   "outputs": [
    {
     "name": "stdout",
     "output_type": "stream",
     "text": [
      "[[53129 53132 53135 ... 57751 57754 57758]\n",
      " [53206 53209 53212 ... 57828 57831 57835]\n",
      " [53441 53444 53447 ... 58063 58066 58070]\n",
      " [53178 53181 53184 ... 57800 57803 57807]]\n"
     ]
    }
   ],
   "source": [
    "\n",
    "cut = np.logical_and(X < np.max(Y), X > np.min(Y))\n",
    "%matplotlib qt\n",
    "plt.figure(figsize=(20,10))\n",
    "\n",
    "plt.plot(ts[0], Y[0], 'o', label='light curve 1')\n",
    "plt.plot(ts[1], Y[1], 'o', label='light curve 2')\n",
    "plt.plot(ts[2], Y[2], 'o', label='light curve 3')\n",
    "plt.plot(ts[3], Y[3], 'o', label='light curve 4')\n",
    "\n",
    "print(tk)\n",
    "\n",
    "plt.plot(tk[0][cut], X[cut],'o', label='interpolated', color='black')\n",
    "plt.xlabel('time[days]')\n",
    "plt.ylabel('magnitude')\n",
    "plt.title('sinc interpolated values')\n",
    "plt.legend()\n",
    "plt.savefig(\"figures/result_4xkxs_final.png\")\n",
    "plt.show()\n"
   ]
  },
  {
   "cell_type": "code",
   "execution_count": 19,
   "metadata": {},
   "outputs": [],
   "source": [
    "cut = np.logical_and(X < np.max(Y), X > np.min(Y))\n",
    "\n",
    "%matplotlib qt\n",
    "plt.figure(figsize=(20,10))\n",
    "\n",
    "plt.plot(ts[0]+time_delays[0], Y[0], 'o', label='light curve 1')\n",
    "plt.plot(ts[1]+time_delays[1], Y[1], 'o', label='light curve 2')\n",
    "plt.plot(ts[2]+time_delays[2], Y[2], 'o', label='light curve 3')\n",
    "plt.plot(ts[3]+time_delays[3], Y[3], 'o', label='light curve 4')\n",
    "\n",
    "plt.plot(tk[0][cut], X[cut],'o', label='interpolated', color='black')\n",
    "plt.xlabel('time[days]')\n",
    "plt.ylabel('magnitude')\n",
    "plt.title('sinc interpolated values')\n",
    "plt.legend()\n",
    "plt.savefig(\"figures/result_4xkxs_final.png\")\n",
    "plt.show()"
   ]
  },
  {
   "cell_type": "markdown",
   "metadata": {},
   "source": [
    "wondering about: (to discuss in meeting)\n",
    "- multiplication_T(X,S): X,S[i].T versus X,S.T[i]\n",
    "- interpolation is not that good, /draft/4xkxs.py seems to interpolate better.\n",
    "- we agreed that the standard deviation of the distribution of noise added to the data would be about the tenth\n",
    "  of the power of the signal (sqrt(f1^2+f2^2+...)) but this standard deviation turns out to be way too large, especially compared to the noise from the real data which I took inspiration from to make the noise for the simulated data.\n"
   ]
  },
  {
   "cell_type": "code",
   "execution_count": 20,
   "metadata": {},
   "outputs": [],
   "source": [
    "cut = np.logical_and(X < np.max(Y), X > np.min(Y))\n",
    "\n",
    "%matplotlib qt\n",
    "plt.figure(figsize=(20,10))\n",
    "\n",
    "plt.plot(ts[0]-time_delays[0], Y[0], 'o', label='light curve 1')\n",
    "plt.plot(ts[1]-time_delays[1], Y[1], 'o', label='light curve 2')\n",
    "plt.plot(ts[2]-time_delays[2], Y[2], 'o', label='light curve 3')\n",
    "plt.plot(ts[3]-time_delays[3], Y[3], 'o', label='light curve 4')\n",
    "\n",
    "plt.plot(tk[0][cut], X[cut],'o', label='interpolated', color='black')\n",
    "plt.xlabel('time[days]')\n",
    "plt.ylabel('magnitude')\n",
    "plt.title('sinc interpolated values')\n",
    "plt.legend()\n",
    "plt.savefig(\"figures/result_4xkxs_final.png\")\n",
    "plt.show()"
   ]
  },
  {
   "cell_type": "code",
   "execution_count": null,
   "metadata": {},
   "outputs": [],
   "source": []
  },
  {
   "cell_type": "code",
   "execution_count": null,
   "metadata": {},
   "outputs": [],
   "source": []
  }
 ],
 "metadata": {
  "kernelspec": {
   "display_name": "Python 3",
   "language": "python",
   "name": "python3"
  },
  "language_info": {
   "codemirror_mode": {
    "name": "ipython",
    "version": 3
   },
   "file_extension": ".py",
   "mimetype": "text/x-python",
   "name": "python",
   "nbconvert_exporter": "python",
   "pygments_lexer": "ipython3",
   "version": "3.7.3"
  }
 },
 "nbformat": 4,
 "nbformat_minor": 2
}
