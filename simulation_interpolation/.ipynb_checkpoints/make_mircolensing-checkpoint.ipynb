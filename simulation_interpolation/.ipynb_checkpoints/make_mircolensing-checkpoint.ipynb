{
 "cells": [
  {
   "cell_type": "code",
   "execution_count": 1,
   "metadata": {},
   "outputs": [],
   "source": [
    "from interpolation_functions import T_K\n",
    "from make_noise import simulate_noise\n",
    "import numpy as np\n",
    "import matplotlib.pyplot as plt\n",
    "%matplotlib inline\n",
    "\n",
    "sim = simulate_noise()\n",
    "ts = sim[0]\n",
    "fs = sim[1] # with noise\n",
    "\n",
    "# desired sampling for each curve\n",
    "tk = np.array([T_K(3,ts[0])[0],T_K(3,ts[1])[0],T_K(3,ts[2])[0],T_K(3,ts[3])[0]]) # desired sampling is 3 days here\n",
    "\n",
    "h=3\n",
    "time_delays = sim[2]\n",
    "\n",
    "# sinc matrix\n",
    "matrix = []\n",
    "for i in range(4):\n",
    "    matrix.append(np.array([(ts[i][:,np.newaxis]+time_delays[i])-tk[i][np.newaxis,:]]))\n",
    "matrix = np.array(matrix)\n",
    "\n",
    "A = np.sinc(np.concatenate([matrix[0],matrix[1],matrix[2],matrix[3]],axis =0)/h)\n",
    "\n",
    "Y= np.concatenate([fs[0][np.newaxis,:],fs[1][np.newaxis,:],fs[2][np.newaxis,:],fs[3][np.newaxis,:]])"
   ]
  },
  {
   "cell_type": "code",
   "execution_count": 2,
   "metadata": {},
   "outputs": [
    {
     "data": {
      "text/plain": [
       "array([[52989, 52992, 52995, ..., 57611, 57614, 57618],\n",
       "       [53002, 53005, 53008, ..., 57624, 57627, 57631],\n",
       "       [52998, 53001, 53004, ..., 57620, 57623, 57627],\n",
       "       [52992, 52995, 52998, ..., 57614, 57617, 57621]])"
      ]
     },
     "execution_count": 2,
     "metadata": {},
     "output_type": "execute_result"
    }
   ],
   "source": [
    "tk"
   ]
  },
  {
   "cell_type": "code",
   "execution_count": null,
   "metadata": {},
   "outputs": [],
   "source": []
  }
 ],
 "metadata": {
  "kernelspec": {
   "display_name": "Python 3",
   "language": "python",
   "name": "python3"
  },
  "language_info": {
   "codemirror_mode": {
    "name": "ipython",
    "version": 3
   },
   "file_extension": ".py",
   "mimetype": "text/x-python",
   "name": "python",
   "nbconvert_exporter": "python",
   "pygments_lexer": "ipython3",
   "version": "3.7.3"
  }
 },
 "nbformat": 4,
 "nbformat_minor": 2
}
