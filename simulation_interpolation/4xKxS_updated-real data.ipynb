{
 "cells": [
  {
   "cell_type": "code",
   "execution_count": 7,
   "metadata": {},
   "outputs": [],
   "source": [
    "from simulation_functions import index, simulation_, plot\n",
    "from interpolation_functions import T_K\n",
    "from make_noise_updated import simulate_noise\n",
    "import numpy as np\n",
    "import matplotlib.pyplot as plt\n",
    "%matplotlib qt\n"
   ]
  },
  {
   "cell_type": "code",
   "execution_count": 30,
   "metadata": {},
   "outputs": [],
   "source": [
    "data0 = np.loadtxt('../RXJ1131_ALL.rdb',skiprows=2)\n",
    "time0 = data0[:,0]\n",
    "mag0_A=  data0[:,1]\n",
    "mag0_B=  data0[:,3]\n",
    "mag0_C=  data0[:,5]\n",
    "mag0_D=  data0[:,7]\n",
    "\n",
    "data1=np.genfromtxt('../HE0435_ECAM.rdb',skip_header=2)\n",
    "time1 = data1[:,0]\n",
    "mag1_A=  data1[:,11]\n",
    "mag1_B=  data1[:,18]\n",
    "mag1_C=  data1[:,25]\n",
    "mag1_D=  data1[:,32]"
   ]
  },
  {
   "cell_type": "code",
   "execution_count": 31,
   "metadata": {},
   "outputs": [],
   "source": [
    "mag0 = np.array([mag0_A,mag0_B,mag0_C,mag0_D])\n",
    "mag1 = np.array([mag1_A,mag1_B,mag1_C,mag1_D])"
   ]
  },
  {
   "cell_type": "code",
   "execution_count": 32,
   "metadata": {},
   "outputs": [],
   "source": [
    "# array = time0\n",
    "# diff = np.array([])\n",
    "# for i in range(1,len(array)):\n",
    "#     diff = np.append(diff,array[i]-array[i-1])\n",
    "# array[diff<30]"
   ]
  },
  {
   "cell_type": "code",
   "execution_count": 33,
   "metadata": {},
   "outputs": [
    {
     "data": {
      "image/png": "[encoded data removed]",
      "text/plain": [
       "<Figure size 432x288 with 1 Axes>"
      ]
     },
     "metadata": {
      "needs_background": "light"
     },
     "output_type": "display_data"
    }
   ],
   "source": [
    "# for i in range(4): \n",
    "#     plt.plot(time0, mag0[i],'o')\n",
    "# plt.show()\n",
    "for i in range(4): \n",
    "    plt.plot(time1, mag1[i],'o')\n",
    "plt.show()"
   ]
  },
  {
   "cell_type": "code",
   "execution_count": 43,
   "metadata": {},
   "outputs": [],
   "source": [
    "\n",
    "\n",
    "# sim = simulate_noise(15) # first argument dt_max: time delay is chosen randomly between 0 and dtmax.\n",
    "# time_delays = sim[2]\n",
    "ts = time0 #gaps(time1)[1] #sim[0]+np.max(time_delays) # observation time sample (same for all curves= non_shifted)\n",
    "# ts_shifted = sim[4]# 4xs made of shifted ts by the time delay of each curve : ts_shifted[i]= ts+time_delay[i]\n",
    "# fs = sim[1]\n",
    "# f_truth = sim[5]\n",
    "# f = sim[6]\n",
    "# t = sim[7]\n",
    "\n",
    "sampling = 3\n",
    "h=sampling\n",
    "# desired sampling for each curve\n",
    "\n",
    "\n",
    "tk = np.linspace(np.min(ts),np.max(ts),np.int(np.abs((np.min(ts)-np.max(ts))/h)),dtype=float,retstep=True)[0]  # [1] gives approx : h\n",
    "\n",
    "\n",
    "# # dt is part of the argument ts+dt -tk of the sinc matrix\n",
    "# dt = np.array([1.,1.,1.,1.])\n",
    "# arg = np.argsort(time_delays)[::-1] # in index terms: from highest time delay to lowest\n",
    "# dt[arg[0]] = 0 #curve with highest time delay has dt = 0\n",
    "# #in what comes: curve with ith highest time delay has :dt = max time delay- ith highest time delay\n",
    "# dt[arg[1]] = np.max(time_delays)-time_delays[arg[1]]\n",
    "# dt[arg[2]] = np.max(time_delays)-time_delays[arg[2]]\n",
    "# dt[arg[3]] = np.max(time_delays)-time_delays[arg[3]]\n",
    "\n",
    "#print('k = ', len(tk),'\\ns = ', len(ts))\n",
    "matrix = []\n",
    "for i in range(4):\n",
    "    matrix.append(np.array([(ts[:,np.newaxis])-tk[np.newaxis,:]])) # change time_delays to dt # -dt\n",
    "matrix = np.array(matrix)\n",
    "\n",
    "A = np.sinc(np.concatenate([matrix[0],matrix[1],matrix[2],matrix[3]],axis =0)/h) # 4 x s x K  , add h* to try\n",
    "\n",
    "Y= np.concatenate([ mag0[0][np.newaxis,:],mag0[1][np.newaxis,:],mag0[2][np.newaxis,:],mag0[3][np.newaxis,:]]) # 4 x s\n",
    "#print('A.shape: ', A.shape, '\\nY.shape: ', Y.shape)"
   ]
  },
  {
   "cell_type": "code",
   "execution_count": 44,
   "metadata": {},
   "outputs": [],
   "source": [
    "# plt.plot(sim[0], fs[0],'o')\n",
    "# plt.plot(sim[0], fs[1]+0.1,'o')\n",
    "# plt.plot(sim[0], fs[2]+0.3,'o')\n",
    "# plt.plot(sim[0], fs[3]+0.5,'o')\n",
    "# plt.show()"
   ]
  },
  {
   "cell_type": "code",
   "execution_count": 45,
   "metadata": {},
   "outputs": [],
   "source": [
    "# multiplication functions:\n",
    "#noise_std = sim[3]\n",
    "def AT(X,A,Y): \n",
    "    '''\n",
    "    calculateS the weighted mean of A.T(Y-AX)\n",
    "    input:\n",
    "    X : array with shape k, solution of interpolation\n",
    "    A : tensor of shape 4xsxk, sinc matrix\n",
    "    Y : matrix of shape 4xs, magnitudes of original time sampling\n",
    "    '''\n",
    "    sum_ = 0\n",
    "    for i in range(4):\n",
    "        sum_ += np.dot(A[i].T, Y[i] - A[i] @ X)#*((1/noise_std[i])**2)\n",
    "    \n",
    "    return sum_#/np.sum(1/(noise_std**2))\n",
    "\n",
    "def multiplication(X,S): # X.S\n",
    "    '''\n",
    "    multiplies X by S[i] and takes the arithmetic mean\n",
    "    '''\n",
    "    this =[]\n",
    "    for i in range(4):\n",
    "        this.append(np.dot(X,S[i]))\n",
    "    this = np.array(this)\n",
    "    return np.mean(this,axis=0)\n",
    "\n",
    "def multiplication_T(X,S): # X.S.T\n",
    "\n",
    "    '''\n",
    "    multiplies X by S[i].T and take the arithmetic mean\n",
    "    '''\n",
    "    this =[]\n",
    "    for i in range(4):\n",
    "        this.append(np.dot(X,S[i].T))\n",
    "    this = np.array(this)\n",
    "    return np.mean(this,axis=0)"
   ]
  },
  {
   "cell_type": "code",
   "execution_count": 50,
   "metadata": {
    "scrolled": true
   },
   "outputs": [],
   "source": [
    "def linorm(S, nit):\n",
    "    x0 = np.random.rand(S.shape[1])  # chose [1] per the implementation of the power iteration method in wiki\n",
    "    x0 = x0 /np.linalg.norm(x0)\n",
    "    for i in range(nit):\n",
    "        x = multiplication(x0,S)#np.dot(x0,S)\n",
    "        xn = np.linalg.norm(x)\n",
    "        xp = x / xn#     \n",
    "        y = multiplication_T(xp,S) # the S.T is done within the functionas S[i].T not S.T[i]\n",
    "        yn = np.linalg.norm(y)  \n",
    "        x0 = y / yn\n",
    "    return 1./xn\n",
    "mu = linorm(A,20)/170 # = 0.0038\n",
    "\n",
    "X = np.zeros(len(tk))\n",
    "\n",
    "count = 0\n",
    "R = [np.sum(Y ** 2)]\n",
    "epsilon = 0.3\n",
    "\n",
    "\n"
   ]
  },
  {
   "cell_type": "code",
   "execution_count": 51,
   "metadata": {},
   "outputs": [],
   "source": [
    "# max_ = []\n",
    "# for i in range(4):\n",
    "#     max_.append(np.max((fs[i][1:]-fs[i][:-1])))#/((ts-dt[i])[1:]-(ts-dt[i])[:-1])))"
   ]
  },
  {
   "cell_type": "code",
   "execution_count": 53,
   "metadata": {
    "scrolled": true
   },
   "outputs": [
    {
     "ename": "ValueError",
     "evalue": "The truth value of an array with more than one element is ambiguous. Use a.any() or a.all()",
     "output_type": "error",
     "traceback": [
      "\u001b[0;31m---------------------------------------------------------------------------\u001b[0m",
      "\u001b[0;31mValueError\u001b[0m                                Traceback (most recent call last)",
      "\u001b[0;32m<ipython-input-53-003cbc9a30c3>\u001b[0m in \u001b[0;36m<module>\u001b[0;34m\u001b[0m\n\u001b[1;32m      4\u001b[0m \u001b[0;34m\u001b[0m\u001b[0m\n\u001b[1;32m      5\u001b[0m \u001b[0;34m\u001b[0m\u001b[0m\n\u001b[0;32m----> 6\u001b[0;31m while (R[-1] > epsilon) and (\n\u001b[0m\u001b[1;32m      7\u001b[0m         count < 5000):  # 5000 is a good amount of counts\n\u001b[1;32m      8\u001b[0m     \u001b[0mX_new\u001b[0m \u001b[0;34m=\u001b[0m \u001b[0mX\u001b[0m \u001b[0;34m+\u001b[0m \u001b[0mmu\u001b[0m \u001b[0;34m*\u001b[0m \u001b[0mAT\u001b[0m\u001b[0;34m(\u001b[0m\u001b[0mX\u001b[0m\u001b[0;34m,\u001b[0m\u001b[0mA\u001b[0m\u001b[0;34m,\u001b[0m\u001b[0mY\u001b[0m\u001b[0;34m)\u001b[0m\u001b[0;34m\u001b[0m\u001b[0;34m\u001b[0m\u001b[0m\n",
      "\u001b[0;31mValueError\u001b[0m: The truth value of an array with more than one element is ambiguous. Use a.any() or a.all()"
     ]
    }
   ],
   "source": [
    "max_var = np.abs(np.max((mag1_A[1:]-mag1_A[:-1])))#/(t[1:]-t[:-1]))) # exact if without noise (f doesnt have noise)\n",
    "\n",
    "# with total variation\n",
    "\n",
    "\n",
    "while (R[-1] > epsilon) and (\n",
    "        count < 5000):  # 5000 is a good amount of counts\n",
    "    X_new = X + mu * AT(X,A,Y)\n",
    "    X = X_new.copy()   \n",
    "    S_var = (X[:-1]-X[1:])#/((tk[:-1]-tk[1:]))\n",
    "    sign = np.sign(S_var[np.abs(S_var) >2*max_var])\n",
    "    loc = np.where(np.abs(S_var) >2*max_var)\n",
    "    X[loc] = X[loc] - 2*max_var*sign\n",
    "    \n",
    "    count += 1\n",
    "\n",
    "    R.append((Y - A @ X)) #Y-AX-AM\n",
    "\n",
    "plt.title('Convergence')\n",
    "plt.plot(np.array(R[1:]))\n",
    "plt.xlabel('iterations')\n",
    "plt.ylabel('error')\n",
    "plt.show()"
   ]
  },
  {
   "cell_type": "code",
   "execution_count": null,
   "metadata": {
    "scrolled": true
   },
   "outputs": [],
   "source": [
    "%matplotlib qt\n",
    "#cut = np.logical_and(X < np.max(Y), X > np.min(Y))\n",
    "plt.figure(figsize=(20,10))\n",
    "\n",
    "for i in range(4):\n",
    "    plt.plot(ts, Y[i], 'o', label='light curve '+str(i))    \n",
    "\n",
    "#plt.plot(tk[cut], X[cut],'o', label='interpolated', color='black')\n",
    "plt.plot(tk, X,'o', label='interpolated', color='black')\n",
    "#plt.plot(t,f,'o', label = 'true')\n",
    "plt.xlabel('time[days]')\n",
    "plt.ylabel('magnitude')\n",
    "plt.title('sinc interpolated values')\n",
    "plt.legend()\n",
    "plt.savefig(\"Real data #1 interpolation, with seasonal gaps\")\n",
    "plt.show()\n"
   ]
  },
  {
   "cell_type": "code",
   "execution_count": 64,
   "metadata": {},
   "outputs": [],
   "source": [
    "def gaps(array):\n",
    "    diff = np.array([])\n",
    "    for i in range(1,len(array)):\n",
    "        diff = np.append(diff,array[i]-array[i-1])\n",
    "    return diff, diff[diff<10]"
   ]
  },
  {
   "cell_type": "code",
   "execution_count": 65,
   "metadata": {},
   "outputs": [
    {
     "data": {
      "image/png": "[encoded data removed]",
      "text/plain": [
       "<Figure size 432x288 with 1 Axes>"
      ]
     },
     "metadata": {
      "needs_background": "light"
     },
     "output_type": "display_data"
    }
   ],
   "source": [
    "plt.hist(gaps(time0)[1],50)\n",
    "plt.show()"
   ]
  },
  {
   "cell_type": "code",
   "execution_count": null,
   "metadata": {},
   "outputs": [],
   "source": []
  }
 ],
 "metadata": {
  "kernelspec": {
   "display_name": "Python 3",
   "language": "python",
   "name": "python3"
  },
  "language_info": {
   "codemirror_mode": {
    "name": "ipython",
    "version": 3
   },
   "file_extension": ".py",
   "mimetype": "text/x-python",
   "name": "python",
   "nbconvert_exporter": "python",
   "pygments_lexer": "ipython3",
   "version": "3.7.3"
  }
 },
 "nbformat": 4,
 "nbformat_minor": 2
}
