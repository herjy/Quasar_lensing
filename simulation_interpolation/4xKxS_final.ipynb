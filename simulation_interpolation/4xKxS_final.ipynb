{
 "cells": [
  {
   "cell_type": "code",
   "execution_count": 6,
   "metadata": {},
   "outputs": [],
   "source": [
    "from simulation_functions import index, simulation_, plot\n",
    "from interpolation_functions import T_K\n",
    "from make_noise import simulate_noise\n",
    "import numpy as np\n",
    "import matplotlib.pyplot as plt\n",
    "%matplotlib inline\n",
    "\n",
    "sim = simulate_noise(700, noise = False) # first argument dt_max: time delay is chosen randomly between 0 and dtmax.\n",
    "ts = sim[0]\n",
    "fs = sim[1] # *without* noise\n",
    "\n",
    "sampling = 3\n",
    "# desired sampling for each curve\n",
    "tk = np.array([T_K(sampling,ts[0])[0],T_K(sampling,ts[1])[0],T_K(sampling,ts[2])[0],T_K(sampling,ts[3])[0]]) # desired sampling is 3 days here\n",
    "\n",
    "h=sampling\n",
    "time_delays = sim[2]\n",
    "\n",
    "# sinc matrix\n",
    "matrix = []\n",
    "for i in range(4):\n",
    "    matrix.append(np.array([(ts[i][:,np.newaxis]+time_delays[i])-tk[i][np.newaxis,:]]))\n",
    "matrix = np.array(matrix)\n",
    "\n",
    "A = np.sinc(np.concatenate([matrix[0],matrix[1],matrix[2],matrix[3]],axis =0)/h)\n",
    "\n",
    "Y= np.concatenate([fs[0][np.newaxis,:],fs[1][np.newaxis,:],fs[2][np.newaxis,:],fs[3][np.newaxis,:]])"
   ]
  },
  {
   "cell_type": "code",
   "execution_count": 7,
   "metadata": {},
   "outputs": [],
   "source": [
    "# multiplication functions:\n",
    "#noise_std = [1,1,1,1]\n",
    "def AT(X,A,Y): \n",
    "    '''\n",
    "    calculateS the weighted mean of A.T(Y-AX)\n",
    "    input:\n",
    "    X : array with shape k, solution of interpolation\n",
    "    A : tensor of shape 4xkxs, sinc matrix\n",
    "    Y : matrix of shape 4xs, magnitudes of original time sampling\n",
    "    '''\n",
    "    sum_ = 0\n",
    "    for i in range(4):\n",
    "        sum_ += np.dot(A[i].T, Y[i] - A[i] @ X)#/np.sum(1/(noise_std**2)) ((1/noise_std[i])**2)*\n",
    "    \n",
    "    return sum_\n",
    "\n",
    "def multiplication(X,S): # X.S\n",
    "    '''\n",
    "    multiplies X by S[i] and takes the arithmetic mean\n",
    "    '''\n",
    "    this =[]\n",
    "    for i in range(4):\n",
    "        this.append(np.dot(X,S[i]))\n",
    "    this = np.array(this)\n",
    "    return np.mean(this,axis=0)\n",
    "\n",
    "def multiplication_T(X,S): # X.S.T\n",
    "\n",
    "    '''\n",
    "    multiplies X by S[i].T and take the arithmetic mean\n",
    "    '''\n",
    "    this =[]\n",
    "    for i in range(4):\n",
    "        this.append(np.dot(X,S[i].T))\n",
    "    this = np.array(this)\n",
    "    return np.mean(this,axis=0)"
   ]
  },
  {
   "cell_type": "code",
   "execution_count": null,
   "metadata": {
    "scrolled": true
   },
   "outputs": [],
   "source": [
    "def linorm(S, nit):\n",
    "    x0 = np.random.rand(S.shape[1])  # chose [1] per the implementation of the power iteration method in wiki\n",
    "    x0 = x0 /np.linalg.norm(x0)\n",
    "    for i in range(nit):\n",
    "        x = multiplication(x0,S)#np.dot(x0,S)\n",
    "        xn = np.linalg.norm(x)\n",
    "        xp = x / xn#     \n",
    "        y = multiplication_T(xp,S) # the S.T is done within the functionas S[i].T not S.T[i]\n",
    "        yn = np.linalg.norm(y)  \n",
    "        x0 = y / yn\n",
    "    return 1./xn\n",
    "mu = linorm(A,20)/170 # = 0.0038\n",
    "\n",
    "X = np.zeros(len(tk[0]))\n",
    "\n",
    "count = 0\n",
    "R = [np.sum(Y ** 2)]\n",
    "epsilon = 0.3\n",
    "\n",
    "\n",
    "\n",
    "while (R[-1] > epsilon) and (\n",
    "        count < 5000):  # 5000 is a good amount of counts\n",
    "    X_new = X + mu * AT(X,A,Y)\n",
    "    X = X_new.copy()\n",
    "    R.append(np.sum((Y - A @ X) ** 2.))\n",
    "    count += 1\n",
    "\n",
    "\n",
    "plt.title('Convergence')\n",
    "plt.plot(np.array(R[1:]))\n",
    "plt.xlabel('iterations')\n",
    "plt.ylabel('error')\n",
    "plt.show()\n",
    "\n",
    "\n"
   ]
  },
  {
   "cell_type": "code",
   "execution_count": null,
   "metadata": {
    "scrolled": true
   },
   "outputs": [],
   "source": [
    "cut = np.logical_and(X < np.max(Y), X > np.min(Y))\n",
    "plt.figure(figsize=(20,10))\n",
    "\n",
    "plt.plot(ts[0], Y[0], 'o', label='light curve 1')\n",
    "plt.plot(ts[1], Y[1], 'o', label='light curve 2')\n",
    "plt.plot(ts[2], Y[2], 'o', label='light curve 3')\n",
    "plt.plot(ts[3], Y[3], 'o', label='light curve 4')\n",
    "\n",
    "plt.plot(tk[0][cut]-time_delays[0], X[cut],'o', label='interpolated', color='black')\n",
    "plt.xlabel('time[days]')\n",
    "plt.ylabel('magnitude')\n",
    "plt.title('sinc interpolated values')\n",
    "plt.legend()\n",
    "plt.show()\n"
   ]
  },
  {
   "cell_type": "code",
   "execution_count": null,
   "metadata": {},
   "outputs": [],
   "source": [
    "plt.savefig(\"figures/result of 4xkxs_final.png\")"
   ]
  },
  {
   "cell_type": "markdown",
   "metadata": {},
   "source": [
    "wondering about: (to discuss in meeting)\n",
    "- multiplication_T(X,S): X,S[i].T versus X,S.T[i]\n",
    "- interpolation is not that good, /draft/4xkxs.py seems to interpolate better.\n",
    "- we agreed that the standard deviation of the distribution of noise added to the data would be about the tenth\n",
    "  of the power of the signal (sqrt(f1^2+f2^2+...)) but this standard deviation turns out to be way too large, especially compared to the noise from the real data which I took inspiration from to make the noise for the simulated data.\n"
   ]
  },
  {
   "cell_type": "code",
   "execution_count": null,
   "metadata": {},
   "outputs": [],
   "source": []
  }
 ],
 "metadata": {
  "kernelspec": {
   "display_name": "Python 3",
   "language": "python",
   "name": "python3"
  },
  "language_info": {
   "codemirror_mode": {
    "name": "ipython",
    "version": 3
   },
   "file_extension": ".py",
   "mimetype": "text/x-python",
   "name": "python",
   "nbconvert_exporter": "python",
   "pygments_lexer": "ipython3",
   "version": "3.7.3"
  }
 },
 "nbformat": 4,
 "nbformat_minor": 2
}
