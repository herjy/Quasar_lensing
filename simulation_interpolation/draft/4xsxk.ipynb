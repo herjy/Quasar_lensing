{
 "cells": [
  {
   "cell_type": "code",
   "execution_count": 2,
   "metadata": {},
   "outputs": [],
   "source": [
    "from simulation_functions import index, simulation_, plot\n",
    "from interpolation_functions import T_K\n",
    "import numpy as np\n",
    "import matplotlib.pyplot as plt\n"
   ]
  },
  {
   "cell_type": "code",
   "execution_count": 2,
   "metadata": {},
   "outputs": [],
   "source": [
    "t_drive_new = np.loadtxt('t_drive_new.txt') # true time sample. \n",
    "ind = index(15,t_drive_new) # 15 means that the time delay is chosen randomly between 0 and 15 days"
   ]
  },
  {
   "cell_type": "code",
   "execution_count": 3,
   "metadata": {},
   "outputs": [
    {
     "name": "stdout",
     "output_type": "stream",
     "text": [
      "1369\n"
     ]
    }
   ],
   "source": [
    "# getting the indices of each time shifter curve \n",
    "index0 = ind[0]\n",
    "index1 = ind[1]\n",
    "index2 = ind[2]\n",
    "index3 = ind[3]\n",
    "sample = np.sort(ind[5])\n",
    "\n",
    "#getting the time sample of each curve\n",
    "ts_0 = sample[index0]\n",
    "ts_1 = sample[index1]\n",
    "ts_2 = sample[index2]\n",
    "ts_3 = sample[index3]\n",
    "ts = np.array([ts_0,ts_1,ts_2,ts_3])\n",
    "\n",
    "# finding the magnitudes corresponding to each time shifted sample\n",
    "f = simulation_(sample) #running simulation\n",
    "fs_0 = f[index0]\n",
    "fs_1 = f[index1]\n",
    "fs_2 = f[index2]\n",
    "fs_3 = f[index3]\n",
    "\n",
    "# desired sampling for each curve\n",
    "tk_0 = T_K(8,ts_0)[0]\n",
    "tk_1 = T_K(8,ts_1)[0]\n",
    "tk_2 = T_K(8,ts_2)[0]\n",
    "tk_3 = T_K(8,ts_3)[0]\n",
    "tk = np.array([tk_0,tk_1,tk_2,tk_3])\n",
    "\n",
    "h=8\n",
    "time_delays = ind[6] \n",
    "print(len(ts_0))"
   ]
  },
  {
   "cell_type": "code",
   "execution_count": 4,
   "metadata": {},
   "outputs": [
    {
     "data": {
      "text/plain": [
       "(4, 1369, 578)"
      ]
     },
     "execution_count": 4,
     "metadata": {},
     "output_type": "execute_result"
    }
   ],
   "source": [
    "# sinc matrix  # make this into for loop\n",
    "a = np.array([(ts_0[:,np.newaxis]+time_delays[0])-tk_0[np.newaxis,:]])\n",
    "b = np.array([(ts_1[:,np.newaxis]+time_delays[1])-tk_1[np.newaxis,:]])\n",
    "c = np.array([(ts_2[:,np.newaxis]+time_delays[2])-tk_2[np.newaxis,:]])\n",
    "d = np.array([(ts_3[:,np.newaxis]+time_delays[3])-tk_3[np.newaxis,:]])\n",
    "sinc_matrix = np.sinc(np.concatenate([a,b,c,d],axis =0)/h)\n",
    "sinc_matrix.shape # 4 x s x k"
   ]
  },
  {
   "cell_type": "code",
   "execution_count": 5,
   "metadata": {},
   "outputs": [],
   "source": [
    "B= np.concatenate([fs_0[np.newaxis,:],fs_1[np.newaxis,:],fs_2[np.newaxis,:],fs_3[np.newaxis,:]])\n",
    "# B.shape # 4 x s"
   ]
  },
  {
   "cell_type": "code",
   "execution_count": 35,
   "metadata": {},
   "outputs": [
    {
     "ename": "MemoryError",
     "evalue": "",
     "output_type": "error",
     "traceback": [
      "\u001b[0;31m---------------------------------------------------------------------------\u001b[0m",
      "\u001b[0;31mMemoryError\u001b[0m                               Traceback (most recent call last)",
      "\u001b[0;32m<ipython-input-35-ad88e858bbc2>\u001b[0m in \u001b[0;36m<module>\u001b[0;34m\u001b[0m\n\u001b[1;32m      1\u001b[0m \u001b[0mX\u001b[0m \u001b[0;34m=\u001b[0m \u001b[0mnp\u001b[0m\u001b[0;34m.\u001b[0m\u001b[0mzeros\u001b[0m\u001b[0;34m(\u001b[0m\u001b[0mlen\u001b[0m\u001b[0;34m(\u001b[0m\u001b[0mtk_0\u001b[0m\u001b[0;34m)\u001b[0m\u001b[0;34m)\u001b[0m\u001b[0;31m#:,np.newaxis]\u001b[0m\u001b[0;34m\u001b[0m\u001b[0;34m\u001b[0m\u001b[0m\n\u001b[0;32m----> 2\u001b[0;31m \u001b[0mnp\u001b[0m\u001b[0;34m.\u001b[0m\u001b[0mdot\u001b[0m\u001b[0;34m(\u001b[0m\u001b[0;34m(\u001b[0m\u001b[0msinc_matrix\u001b[0m\u001b[0;34m.\u001b[0m\u001b[0mT\u001b[0m\u001b[0;34m)\u001b[0m\u001b[0;34m,\u001b[0m\u001b[0;34m(\u001b[0m\u001b[0mB\u001b[0m\u001b[0;34m-\u001b[0m\u001b[0msinc_matrix\u001b[0m\u001b[0;34m@\u001b[0m\u001b[0mX\u001b[0m\u001b[0;34m)\u001b[0m\u001b[0;34m)\u001b[0m\u001b[0;34m.\u001b[0m\u001b[0mshape\u001b[0m\u001b[0;34m\u001b[0m\u001b[0;34m\u001b[0m\u001b[0m\n\u001b[0m",
      "\u001b[0;31mMemoryError\u001b[0m: "
     ]
    }
   ],
   "source": [
    "X = np.zeros(len(tk_0))#:,np.newaxis]\n",
    "np.dot((sinc_matrix.T),(B-sinc_matrix@X)).shape\n"
   ]
  },
  {
   "cell_type": "code",
   "execution_count": 6,
   "metadata": {},
   "outputs": [],
   "source": [
    "# failed attempts to generalize linorm to higher dimensions yielded this:\n",
    "def linorm(S, nit):\n",
    "    x0 = np.random.rand(S.shape[1])  # chose [1] per the implementation of the power iteration method in wiki\n",
    "    x0 = x0 /np.linalg.norm(x0)\n",
    "    for i in range(nit):\n",
    "        x = np.dot(x0,S)\n",
    "        xn = np.linalg.norm(x)\n",
    "        xp = x / xn\n",
    "        y = np.dot(xp,S.T) # this was np.dot(xp,S.T) before but the dimensions dont match unless i flip it \n",
    "        yn = np.linalg.norm(y)  \n",
    "        if yn < np.dot(x0.T,y)# doesnt work---- right hand side is now a matrix, being compared to a single number yn ...\n",
    "           break\n",
    "        x0 = y / yn\n",
    "    return 1./xn"
   ]
  },
  {
   "cell_type": "code",
   "execution_count": 7,
   "metadata": {},
   "outputs": [],
   "source": [
    "# l = linorm(sinc_matrix, 21)\n",
    "# l"
   ]
  },
  {
   "cell_type": "code",
   "execution_count": 10,
   "metadata": {},
   "outputs": [],
   "source": [
    "def solution_gd(i): \n",
    "    '''\n",
    "    Solution of matrix equation using gradient descent\n",
    "    input:\n",
    "    i : the number of shifted curve desired to solve for, options are 0,1,2,3\n",
    "    output: \n",
    "    plots of the solution\n",
    "    '''\n",
    "    A = sinc_matrix\n",
    "    Y = B\n",
    "    #edit linorm to take 3D array\n",
    "#     def linorm(S, nit):\n",
    "#         n1, n2 = np.shape(S)\n",
    "#         x0 = np.random.rand(1, n1)\n",
    "#         x0 = x0 / np.sqrt(np.sum(x0 ** 2))    \n",
    "#         for i in range(nit):\n",
    "#             x = np.dot(x0, S)\n",
    "#             xn = np.sqrt(np.sum(x ** 2))\n",
    "#             xp = x / xn\n",
    "#             y = np.dot(xp, S.T)\n",
    "#             yn = np.sqrt(np.sum(y ** 2))       \n",
    "#             if yn < np.dot(y, x0.T):\n",
    "#                 break\n",
    "#             x0 = y / yn\n",
    "#         return 1./xn\n",
    "\n",
    "#     mu = linorm(A, 20)/100.\n",
    "    mu = 0.0038 # just to move on\n",
    "\n",
    "    X = np.zeros(len(tk_0))\n",
    "\n",
    "    count = 0\n",
    "    R = [np.sum(Y**2)]\n",
    "    epsilon = 0.3\n",
    "\n",
    "    while (R[-1] > epsilon) and (count < 10000): # calculated this norm^2 for the least squares sol it gave 0.5 so I chose 0.5>0.3\n",
    "        X_new = X + mu*((A.T)@(Y-A@X))\n",
    "        X = X_new.copy()\n",
    "        R.append(np.sum((Y-A@X)**2.))\n",
    "        count+=1\n",
    "        \n",
    "    plt.title('Convergence')\n",
    "    plt.plot(np.array(R[1:]))\n",
    "    plt.xlabel('iterations')\n",
    "    plt.ylabel('error')\n",
    "    plt.show()\n",
    "    \n",
    "    cut = np.logical_and(X < np.max(Y), X > np.min(Y))\n",
    "    plt.plot(ts[i],Y,'o',label = 'original')\n",
    "    plt.plot(tk[i][cut],X[cut],'o',label='interpolated', color = 'orange')\n",
    "    plt.xlabel('time[days]')\n",
    "    plt.ylabel('magnitude')\n",
    "    plt.title('sinc interpolated values')\n",
    "    plt.legend()\n",
    "    plt.show()"
   ]
  },
  {
   "cell_type": "code",
   "execution_count": 11,
   "metadata": {},
   "outputs": [
    {
     "ename": "MemoryError",
     "evalue": "",
     "output_type": "error",
     "traceback": [
      "\u001b[0;31m---------------------------------------------------------------------------\u001b[0m",
      "\u001b[0;31mMemoryError\u001b[0m                               Traceback (most recent call last)",
      "\u001b[0;32m<ipython-input-11-72b03e56ffaa>\u001b[0m in \u001b[0;36m<module>\u001b[0;34m\u001b[0m\n\u001b[0;32m----> 1\u001b[0;31m \u001b[0msolution_gd\u001b[0m\u001b[0;34m(\u001b[0m\u001b[0;36m0\u001b[0m\u001b[0;34m)\u001b[0m \u001b[0;31m# replace 3 with 0,1,2 for other curves\u001b[0m\u001b[0;34m\u001b[0m\u001b[0;34m\u001b[0m\u001b[0m\n\u001b[0m",
      "\u001b[0;32m<ipython-input-10-3f6851442af8>\u001b[0m in \u001b[0;36msolution_gd\u001b[0;34m(i)\u001b[0m\n\u001b[1;32m     35\u001b[0m \u001b[0;34m\u001b[0m\u001b[0m\n\u001b[1;32m     36\u001b[0m     \u001b[0;32mwhile\u001b[0m \u001b[0;34m(\u001b[0m\u001b[0mR\u001b[0m\u001b[0;34m[\u001b[0m\u001b[0;34m-\u001b[0m\u001b[0;36m1\u001b[0m\u001b[0;34m]\u001b[0m \u001b[0;34m>\u001b[0m \u001b[0mepsilon\u001b[0m\u001b[0;34m)\u001b[0m \u001b[0;32mand\u001b[0m \u001b[0;34m(\u001b[0m\u001b[0mcount\u001b[0m \u001b[0;34m<\u001b[0m \u001b[0;36m10000\u001b[0m\u001b[0;34m)\u001b[0m\u001b[0;34m:\u001b[0m \u001b[0;31m# calculated this norm^2 for the least squares sol it gave 0.5 so I chose 0.5>0.3\u001b[0m\u001b[0;34m\u001b[0m\u001b[0;34m\u001b[0m\u001b[0m\n\u001b[0;32m---> 37\u001b[0;31m         \u001b[0mX_new\u001b[0m \u001b[0;34m=\u001b[0m \u001b[0mX\u001b[0m \u001b[0;34m+\u001b[0m \u001b[0mmu\u001b[0m\u001b[0;34m*\u001b[0m\u001b[0;34m(\u001b[0m\u001b[0;34m(\u001b[0m\u001b[0mA\u001b[0m\u001b[0;34m.\u001b[0m\u001b[0mT\u001b[0m\u001b[0;34m)\u001b[0m\u001b[0;34m@\u001b[0m\u001b[0;34m(\u001b[0m\u001b[0mY\u001b[0m\u001b[0;34m-\u001b[0m\u001b[0mA\u001b[0m\u001b[0;34m@\u001b[0m\u001b[0mX\u001b[0m\u001b[0;34m)\u001b[0m\u001b[0;34m)\u001b[0m\u001b[0;34m\u001b[0m\u001b[0;34m\u001b[0m\u001b[0m\n\u001b[0m\u001b[1;32m     38\u001b[0m         \u001b[0mX\u001b[0m \u001b[0;34m=\u001b[0m \u001b[0mX_new\u001b[0m\u001b[0;34m.\u001b[0m\u001b[0mcopy\u001b[0m\u001b[0;34m(\u001b[0m\u001b[0;34m)\u001b[0m\u001b[0;34m\u001b[0m\u001b[0;34m\u001b[0m\u001b[0m\n\u001b[1;32m     39\u001b[0m         \u001b[0mR\u001b[0m\u001b[0;34m.\u001b[0m\u001b[0mappend\u001b[0m\u001b[0;34m(\u001b[0m\u001b[0mnp\u001b[0m\u001b[0;34m.\u001b[0m\u001b[0msum\u001b[0m\u001b[0;34m(\u001b[0m\u001b[0;34m(\u001b[0m\u001b[0mY\u001b[0m\u001b[0;34m-\u001b[0m\u001b[0mA\u001b[0m\u001b[0;34m@\u001b[0m\u001b[0mX\u001b[0m\u001b[0;34m)\u001b[0m\u001b[0;34m**\u001b[0m\u001b[0;36m2.\u001b[0m\u001b[0;34m)\u001b[0m\u001b[0;34m)\u001b[0m\u001b[0;34m\u001b[0m\u001b[0;34m\u001b[0m\u001b[0m\n",
      "\u001b[0;31mMemoryError\u001b[0m: "
     ]
    }
   ],
   "source": [
    "solution_gd(0) # replace 3 with 0,1,2 for other curves"
   ]
  },
  {
   "cell_type": "code",
   "execution_count": 1,
   "metadata": {},
   "outputs": [],
   "source": [
    "# make solution_gd take all the matrix at the same time by editing --> lipshitz function generalization? memory error?\n",
    "# interpolate on real data or make simulated data more real by adding a gaussian light curve to it\n",
    "# account for microlensing?"
   ]
  },
  {
   "cell_type": "code",
   "execution_count": 3,
   "metadata": {},
   "outputs": [
    {
     "data": {
      "text/plain": [
       "1.5"
      ]
     },
     "execution_count": 3,
     "metadata": {},
     "output_type": "execute_result"
    }
   ],
   "source": [
    "np.mean([1,2])"
   ]
  },
  {
   "cell_type": "code",
   "execution_count": null,
   "metadata": {},
   "outputs": [],
   "source": []
  }
 ],
 "metadata": {
  "kernelspec": {
   "display_name": "Python 3",
   "language": "python",
   "name": "python3"
  },
  "language_info": {
   "codemirror_mode": {
    "name": "ipython",
    "version": 3
   },
   "file_extension": ".py",
   "mimetype": "text/x-python",
   "name": "python",
   "nbconvert_exporter": "python",
   "pygments_lexer": "ipython3",
   "version": "3.7.3"
  }
 },
 "nbformat": 4,
 "nbformat_minor": 2
}
