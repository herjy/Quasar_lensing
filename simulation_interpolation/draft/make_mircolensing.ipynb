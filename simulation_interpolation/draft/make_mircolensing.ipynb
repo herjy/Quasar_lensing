{
 "cells": [
  {
   "cell_type": "code",
   "execution_count": 20,
   "metadata": {},
   "outputs": [],
   "source": [
    "import numpy as np\n",
    "import matplotlib.pyplot as plt\n"
   ]
  },
  {
   "cell_type": "code",
   "execution_count": 215,
   "metadata": {},
   "outputs": [],
   "source": [
    "t = np.loadtxt('t_drive_new.txt')\n"
   ]
  },
  {
   "cell_type": "code",
   "execution_count": 216,
   "metadata": {},
   "outputs": [],
   "source": [
    "u0=1.3\n",
    "t0 = (np.max(t)+np.min(t))/2 + 100\n",
    "te = 500"
   ]
  },
  {
   "cell_type": "code",
   "execution_count": 217,
   "metadata": {},
   "outputs": [],
   "source": [
    "def u(t):\n",
    "    return np.sqrt(u0**2 +  ((t-t0)/te)**2 )                   "
   ]
  },
  {
   "cell_type": "code",
   "execution_count": 218,
   "metadata": {},
   "outputs": [],
   "source": [
    "def A(u):\n",
    "    return (u**2+2)/(u*np.sqrt(u**2 + 4))"
   ]
  },
  {
   "cell_type": "code",
   "execution_count": 219,
   "metadata": {},
   "outputs": [
    {
     "data": {
      "image/png": "[encoded data removed]",
      "text/plain": [
       "<Figure size 432x288 with 1 Axes>"
      ]
     },
     "metadata": {
      "needs_background": "light"
     },
     "output_type": "display_data"
    }
   ],
   "source": [
    "%matplotlib inline\n",
    "plt.plot(t,A(u(t))-1,'o')\n",
    "plt.show()"
   ]
  },
  {
   "cell_type": "code",
   "execution_count": 189,
   "metadata": {},
   "outputs": [
    {
     "data": {
      "text/plain": [
       "0.1867597257411422"
      ]
     },
     "execution_count": 189,
     "metadata": {},
     "output_type": "execute_result"
    }
   ],
   "source": [
    "np.max(A(u(t)))- np.min(A(u(t)))"
   ]
  },
  {
   "cell_type": "code",
   "execution_count": 242,
   "metadata": {},
   "outputs": [],
   "source": [
    "def make_microlensing(t= np.loadtxt('t_drive_new.txt'), u0=1.3, te=500, d=0):\n",
    "    '''\n",
    "    input:\n",
    "    t = time axis array , default: t_drive_new.txt\n",
    "    u0 =  closest projected approach : controls the height of the peak, the large u0 the\n",
    "    te = time it takes the source to travel one Einstein radius : controls the width of the peak\n",
    "    d: to control the time from the middle of t to the time at the peak: d=0 the peak is at the center of t\n",
    "    output:\n",
    "    magnitudes of microlensing effect at the given times t \n",
    "    amplitude of the graph \n",
    "    '''\n",
    "    t0 = (np.max(t)+np.min(t))/2 + d\n",
    "\n",
    "    def u(t):\n",
    "        return np.sqrt(u0**2 +  ((t-t0)/te)**2 )   \n",
    "    def A(u):\n",
    "        return (u**2+2)/(u*np.sqrt(u**2 + 4))\n",
    "    \n",
    "    mag = A(u(t))\n",
    "    plt.plot(t,mag,'o')\n",
    "    plt.show()\n",
    "\n",
    "    return mag,  np.min(mag) #np.max(mag)-\n",
    "\n"
   ]
  },
  {
   "cell_type": "code",
   "execution_count": 243,
   "metadata": {},
   "outputs": [
    {
     "data": {
      "image/png": "[encoded data removed]",
      "text/plain": [
       "<Figure size 432x288 with 1 Axes>"
      ]
     },
     "metadata": {
      "needs_background": "light"
     },
     "output_type": "display_data"
    }
   ],
   "source": [
    "mic = make_microlensing()\n"
   ]
  },
  {
   "cell_type": "code",
   "execution_count": 244,
   "metadata": {},
   "outputs": [
    {
     "data": {
      "text/plain": [
       "1.0031828311162547"
      ]
     },
     "execution_count": 244,
     "metadata": {},
     "output_type": "execute_result"
    }
   ],
   "source": [
    "mic[1]"
   ]
  },
  {
   "cell_type": "code",
   "execution_count": null,
   "metadata": {},
   "outputs": [],
   "source": []
  }
 ],
 "metadata": {
  "kernelspec": {
   "display_name": "Python 3",
   "language": "python",
   "name": "python3"
  },
  "language_info": {
   "codemirror_mode": {
    "name": "ipython",
    "version": 3
   },
   "file_extension": ".py",
   "mimetype": "text/x-python",
   "name": "python",
   "nbconvert_exporter": "python",
   "pygments_lexer": "ipython3",
   "version": "3.7.3"
  }
 },
 "nbformat": 4,
 "nbformat_minor": 2
}
