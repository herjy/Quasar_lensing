{
 "cells": [
  {
   "cell_type": "code",
   "execution_count": 69,
   "metadata": {},
   "outputs": [],
   "source": [
    "import numpy as np\n",
    "import matplotlib.pyplot as plt\n",
    "from scipy.optimize import curve_fit\n",
    "from math import *\n",
    "from astroML.time_series import generate_damped_RW\n",
    "import argparse\n",
    "import random\n",
    "#%matplotlib qt\n",
    "%matplotlib inline\n",
    "import sys\n",
    "np.set_printoptions(threshold=sys.maxsize)\n",
    "import pickle"
   ]
  },
  {
   "cell_type": "code",
<<<<<<< HEAD
   "execution_count": 70,
   "metadata": {
    "scrolled": true
   },
   "outputs": [],
   "source": [
    "data = np.loadtxt('RXJ1131_ALL.rdb',skiprows=2)\n",
    "data1=np.genfromtxt('HE0435_ECAM.rdb',skip_header=2)\n",
    "time = np.sort(np.concatenate((data[:,0],data1[:,0])))\n",
    "t_drive_new = np.loadtxt('t_drive_new.txt')"
=======
   "execution_count": 22,
   "metadata": {
    "scrolled": true
   },
   "outputs": [],
   "source": [
    "data = np.loadtxt('RXJ1131_ALL.rdb',skiprows=2)\n",
    "data1=np.genfromtxt('HE0435_ECAM.rdb',skip_header=2)\n",
    "time = np.sort(np.concatenate((data[:,0],data1[:,0])))\n",
    "t_drive_new = np.loadtxt('t_drive_new.txt')"
   ]
  },
  {
   "cell_type": "code",
   "execution_count": 47,
   "metadata": {},
   "outputs": [
    {
     "data": {
      "text/plain": [
       "5476"
      ]
     },
     "execution_count": 47,
     "metadata": {},
     "output_type": "execute_result"
    }
   ],
   "source": [
    "n0+n1+n2+n3"
   ]
  },
  {
   "cell_type": "code",
   "execution_count": 39,
   "metadata": {
    "scrolled": true
   },
   "outputs": [],
   "source": [
    "def index(dt_max,t_drive=t_drive_new, num_curve=4):\n",
    "    '''\n",
    "    makes the time delays, \n",
    "    outputs the indices of the individual time shifted samples within their sorted, concatenated array\n",
    "    \n",
    "    inputs:\n",
    "    \n",
    "    dt_max: max of generated time delay\n",
    "    time_sample: the true time sample , default: t_drive_new array\n",
    "    num_curve: the number of shifted curves , default: 4\n",
    "    \n",
    "    output: sample and indices\n",
    "    '''\n",
    "    time_delay = np.random.rand(num_curve)*dt_max # generating num_curve time delays between 0 and dt_max\n",
    "    \n",
    "    # add t_drive to the concatenation to create the truth curve later on\n",
    "    sample = np.concatenate((t_drive+time_delay[0],t_drive+time_delay[1],t_drive+time_delay[2],t_drive+time_delay[3]))#t_drive))\n",
    "    \n",
    "\n",
    "    n0 = len(t_drive+time_delay[0])\n",
    "    n1 = len(t_drive+time_delay[1])\n",
    "    n2 = len(t_drive+time_delay[2])\n",
    "    n3 = len(t_drive+time_delay[3])\n",
    "    ntruth = len(t_drive)\n",
    "\n",
    "    index0 = []\n",
    "    for i in range(n0):\n",
    "        index0.append(np.where(np.argsort(sample) == i))\n",
    "    index0 = np.array(index0).flatten()\n",
    "\n",
    "    index1 = []\n",
    "    for i in range(n0,n0+n1):\n",
    "        index1.append(np.where(np.argsort(sample) == i))\n",
    "    index1 = np.array(index1).flatten()\n",
    "\n",
    "    index2 = []\n",
    "    for i in range(n0+n1,n0+n1+n2):\n",
    "        index2.append(np.where(np.argsort(sample) == i))\n",
    "    index2 = np.array(index2).flatten()\n",
    "\n",
    "    index3 = []\n",
    "    for i in range(n0+n1+n2,n0+n1+n2+n3):\n",
    "        index3.append(np.where(np.argsort(sample) == i))\n",
    "    index3 = np.array(index3).flatten()\n",
    "\n",
    "\n",
    "    index_truth = []\n",
    "    for i in range(n0+n1+n2+n3,n0+n1+n2+n3+ntruth):\n",
    "        index_truth.append(np.where(np.argsort(sample) == i))\n",
    "    index_truth = np.array(index_truth).flatten()\n",
    "    \n",
    "    return index0, index1, index2, index3, index_truth, sample,time_delay\n",
    "# to check that index() is working, uncomment line below, replace 3 with 0,1,2,4\n",
    "#np.sort(sample)[index3] == (t_drive+time_delay[3]) \n",
    "\n",
    "sample = index(15)[5]\n",
    "\n",
    "index0 = index(15)[0]\n",
    "index1 = index(15)[1]\n",
    "index2 = index(15)[2]\n",
    "index3 = index(15)[3]\n",
    "index_truth = index(15)[4]\n",
    "time_delay = index(15)[5]\n",
    "\n"
   ]
  },
  {
   "cell_type": "code",
   "execution_count": 40,
   "metadata": {},
   "outputs": [],
   "source": [
    "def simulation(sample_ = sample):\n",
    "    '''\n",
    "    simulating data using any time sampling the time axis\n",
    "    input: \n",
    "    sample_: time sample made of concatenated arrays of the time sample of each shifted curve. default: sample from index()\n",
    "\n",
    "    '''\n",
    "\n",
    "    parser = argparse.ArgumentParser(formatter_class=argparse.ArgumentDefaultsHelpFormatter)\n",
    "    parser.add_argument('--fname'         , '-fn  ', type=str  , default='LC_DRW.txt' ,help='Set the output filename (default: LC_DRW.txt)')\n",
    "    parser.add_argument('--tau'           , '-tau ', type=float, default=300          ,help='Set the relaxation time (default: tau=300)')\n",
    "    parser.add_argument('--strc_func_inf' , '-sf  ', type=float, default=0.1          ,help='Set the structure function at infinity (default: SFinf=0.1)')\n",
    "    parser.add_argument('--xmean'         , '-xmu ', type=float, default=1.           ,help='Set the mean value of random walk (default: Xmean=1.)')\n",
    "    parser.add_argument('--ran_seed'      , '-sn  ', type=str  , default='123'        ,help='Set the random seed (r: random, snnn: random seed)')\n",
    "    parser.add_argument('--redshift_src'  , '-zs'  , type=float, default=0.5          ,help='Set the redshift of source (default: zs=0.5)')\n",
    "\n",
    "    parser.add_argument('--target_dir'    , '-td'  ,             default='.',          help='Set the output directory')\n",
    "\n",
    "\n",
    "    args = parser.parse_args()\n",
    "\n",
    "    fn = args.fname\n",
    "\n",
    "    xmean = args.xmean\n",
    "    tau = args.tau\n",
    "    SFinf = args.strc_func_inf\n",
    "    zs = args.redshift_src\n",
    "    sn = args.ran_seed\n",
    "\n",
    "    stem_out = args.target_dir\n",
    "\n",
    "\n",
    "    if (sn == 'r'):\n",
    "        np.random.seed()\n",
    "    else:\n",
    "        sn = int(sn)\n",
    "        np.random.seed(sn)\n",
    "    sn = np.random.randn(1)\n",
    "\n",
    "    # generating magnitudes\n",
    "\n",
    "    f = generate_damped_RW(np.sort(sample), tau=tau, z=zs, SFinf=SFinf, xmean=xmean,random_state=5)\n",
    "\n",
    "    # finding the magnitudes corresponding to each time shifted sample\n",
    "    f_t0 = f[index0]\n",
    "    f_t1 = f[index1]\n",
    "    f_t2 = f[index2]\n",
    "    f_t3 = f[index3]\n",
    "    f_truth = f[index_truth]\n",
    "    return f_t0,f_t1,f_t2,f_t3,f_truth\n",
    "# out = simulation()\n",
    "\n",
    "f_t0 = simulation()[0]\n",
    "f_t1 = simulation()[1]\n",
    "f_t2 = simulation()[2]\n",
    "f_t3 = simulation()[3]\n",
    "f_truth = simulation()[4]"
   ]
  },
  {
   "cell_type": "code",
   "execution_count": 43,
   "metadata": {},
   "outputs": [],
   "source": [
    "#%matplotlib qt\n",
    "\n",
    "def  plot(t=t_drive_new,mag0=f_t0,mag1=f_t1,mag2=f_t2,mag3=f_t3, delay = time_delay):\n",
    "    '''\n",
    "    plots the time shifter curves, plots alligned curves (shifted back)\n",
    "    \n",
    "    input:\n",
    "    t : the original time sample of the true curve\n",
    "    mag0,mag1,mag2,mag3 : magnitudes of the shifted curve\n",
    "    delay : array containing the original time delays \n",
    "    \n",
    "    output:\n",
    "    plots\n",
    "    '''\n",
    "    \n",
    "    #plt.plot(t_drive, f_truth, 'o', color='black', label='DRW- True')\n",
    "    plt.plot(t, mag0+0.3, 'o', label='DRW1')  \n",
    "    plt.plot(t, mag1+0.6, 'o',  label='DRW2')  \n",
    "    plt.plot(t ,mag2+0.9, 'o', label='DRW3')  \n",
    "    plt.plot(t, mag3+0.12, 'o', label='DRW4')  \n",
    "    \n",
    "    plt.title('time shifted curves')\n",
    "    plt.xlabel('t (days)')\n",
    "    plt.ylabel('Fraction Variation')\n",
    "    plt.legend()\n",
    "    plt.show()\n",
    "    \n",
    "    #plt.plot(t_drive, f_truth, color='black', label='DRW- True')\n",
    "    plt.plot(t+delay[0], f_t0, 'o', label='DRW1')  #+0.3\n",
    "    plt.plot(t+delay[1], f_t1, 'o',  label='DRW2')  #+0.6\n",
    "    plt.plot(t+delay[2] ,f_t2, 'o', label='DRW3')  #+0.9\n",
    "    plt.plot(t+delay[3], f_t3, 'o', label='DRW4')  #+0.12\n",
    "\n",
    "    plt.title('shifting back and alligning all curves')\n",
    "    plt.xlabel('t (days)')\n",
    "    plt.ylabel('Fraction Variation')\n",
    "    plt.legend()\n",
    "    plt.show()"
>>>>>>> 1972a56dc58f6b99da72a0e771b4e1545836afc5
   ]
  },
  {
   "cell_type": "code",
<<<<<<< HEAD
   "execution_count": 71,
   "metadata": {},
   "outputs": [],
   "source": [
    "'''simulating data using the sampling about as the time axis'''\n",
    "\n",
    "parser = argparse.ArgumentParser(formatter_class=argparse.ArgumentDefaultsHelpFormatter)\n",
    "parser.add_argument('--time_initial'  , '-ti  ', type=float, default=-365.        ,help='Set the initial time (default: t=-365 [day])')\n",
    "parser.add_argument('--time_final'    , '-tf  ', type=float, default=365.         ,help='Set the final time (default: t=365 [day])')\n",
    "parser.add_argument('--delta_time'    , '-dt  ', type=float, default=0.1          ,help='Set the time interval (default: dt=0.1 [day])')\n",
    "parser.add_argument('--fname'         , '-fn  ', type=str  , default='LC_DRW.txt' ,help='Set the output filename (default: LC_DRW.txt)')\n",
    "\n",
    "parser.add_argument('--tau'           , '-tau ', type=float, default=300          ,help='Set the relaxation time (default: tau=300)')\n",
    "parser.add_argument('--strc_func_inf' , '-sf  ', type=float, default=0.1          ,help='Set the structure function at infinity (default: SFinf=0.1)')\n",
    "parser.add_argument('--xmean'         , '-xmu ', type=float, default=1.           ,help='Set the mean value of random walk (default: Xmean=1.)')\n",
    "parser.add_argument('--ran_seed'      , '-sn  ', type=str  , default='123'        ,help='Set the random seed (r: random, snnn: random seed)')\n",
    "parser.add_argument('--redshift_src'  , '-zs'  , type=float, default=0.5          ,help='Set the redshift of source (default: zs=0.5)')\n",
    "\n",
    "parser.add_argument('--target_dir'    , '-td'  ,             default='.',          help='Set the output directory')\n",
    "\n",
    "\n",
    "args = parser.parse_args()\n",
    "\n",
    "ti = args.time_initial\n",
    "tf = args.time_final\n",
    "dt = args.delta_time\n",
    "fn = args.fname\n",
    "\n",
    "xmean = args.xmean\n",
    "tau = args.tau\n",
    "SFinf = args.strc_func_inf\n",
    "zs = args.redshift_src\n",
    "sn = args.ran_seed\n",
    "\n",
    "stem_out = args.target_dir\n",
    "\n",
    "\n",
    "if (sn == 'r'):\n",
    "    np.random.seed()\n",
    "else:\n",
    "    sn = int(sn)\n",
    "    np.random.seed(sn)\n"
   ]
  },
  {
   "cell_type": "code",
   "execution_count": 72,
   "metadata": {
    "scrolled": true
   },
   "outputs": [],
   "source": [
    "sn = np.random.randn(1)\n",
    "time_delay = np.random.rand(4)*15 # time delays: these are large, just to see effects throughout process\n",
    "\n",
    "t_drive = t_drive_new\n",
    "f_drive = generate_damped_RW(t_drive, tau=tau, z=zs, SFinf=SFinf, xmean=xmean,random_state=5)"
   ]
  },
  {
   "cell_type": "markdown",
   "metadata": {},
   "source": [
    "### Part 3"
   ]
  },
  {
   "cell_type": "code",
   "execution_count": 73,
   "metadata": {},
   "outputs": [],
   "source": [
    "# 0th image starts from 0 to 1368 in indices\n",
    "# 1st image starts from 1369 to 2737 in indices\n",
    "# 2nd image starts from 2738 to 4106 in indices\n",
    "# 3rd image starts from 4106 to 5475 in indices\n",
    "# true image starts from 5475 to 6844 in indices"
=======
   "execution_count": 44,
   "metadata": {
    "scrolled": true
   },
   "outputs": [
    {
     "data": {
      "image/png": "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\n",
      "text/plain": [
       "<Figure size 432x288 with 1 Axes>"
      ]
     },
     "metadata": {
      "needs_background": "light"
     },
     "output_type": "display_data"
    },
    {
     "data": {
      "image/png": "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\n",
      "text/plain": [
       "<Figure size 432x288 with 1 Axes>"
      ]
     },
     "metadata": {
      "needs_background": "light"
     },
     "output_type": "display_data"
    }
   ],
   "source": [
    "plot()"
   ]
  },
  {
   "cell_type": "code",
   "execution_count": null,
   "metadata": {},
   "outputs": [],
   "source": []
  },
  {
   "cell_type": "code",
   "execution_count": 45,
   "metadata": {},
   "outputs": [],
   "source": [
    "min_ = np.ceil(np.min(t_drive+time_delay[0]))\n",
    "max_ = np.floor(np.max(t_drive+time_delay[2]))\n",
    "# current sampling\n",
    "t_s = np.sort(sample[0:5476])\n",
    "np.savetxt('t_s.txt',t_s)\n",
    "np.savetxt('f.txt',f)"
>>>>>>> 1972a56dc58f6b99da72a0e771b4e1545836afc5
   ]
  },
  {
   "cell_type": "code",
<<<<<<< HEAD
   "execution_count": 74,
=======
   "execution_count": 49,
>>>>>>> 1972a56dc58f6b99da72a0e771b4e1545836afc5
   "metadata": {},
   "outputs": [
    {
     "name": "stdout",
     "output_type": "stream",
     "text": [
      "<class 'tuple'>\n",
      "checking the step 3.001944264419961\n"
     ]
    }
   ],
   "source": [
<<<<<<< HEAD
    "# concatenating all the shifted time samples\n",
    "sample = np.concatenate((t_drive+time_delay[0],t_drive+time_delay[1],t_drive+time_delay[2],t_drive+time_delay[3]))#t_drive))"
=======
    "# creating the desired sampling t_k ,\n",
    "t_k_step = 3  # step for desired sampling\n",
    "t_k_ = np.linspace(min_,max_,np.int(np.abs((min_-max_)/t_k_step)),dtype=int,retstep=True)\n",
    "print(type(t_k_))\n",
    "t_k = t_k_[0]\n",
    "h = t_k_[1]\n",
    "print('checking the step', h)"
>>>>>>> 1972a56dc58f6b99da72a0e771b4e1545836afc5
   ]
  },
  {
   "cell_type": "code",
<<<<<<< HEAD
   "execution_count": 75,
   "metadata": {},
   "outputs": [],
   "source": [
    "# gives the indices of time shifted samples within the sorted, concatenated array\n",
    "'''all that needs to be understood from this is that the sanity check will work, uncomment 2nd line of cell below to try'''\n",
    "index0 = []\n",
    "for i in range(1369):\n",
    "    index0.append(np.where(np.argsort(sample) == i))\n",
    "index0 = np.array(index0).flatten()\n",
    "\n",
    "index1 = []\n",
    "for i in range(1369,2738):\n",
    "    index1.append(np.where(np.argsort(sample) == i))\n",
    "index1 = np.array(index1).flatten()\n",
    "\n",
    "index2 = []\n",
    "for i in range(2738,4107):\n",
    "    index2.append(np.where(np.argsort(sample) == i))\n",
    "index2 = np.array(index2).flatten()\n",
    "\n",
    "index3 = []\n",
    "for i in range(4107,5476):\n",
    "    index3.append(np.where(np.argsort(sample) == i))\n",
    "index3 = np.array(index3).flatten()\n",
    "\n",
    "index_truth = []\n",
    "for i in range(5476,6845):\n",
    "    index_truth.append(np.where(np.argsort(sample) == i))\n",
    "index_truth = np.array(index_truth).flatten()"
=======
   "execution_count": 20,
   "metadata": {},
   "outputs": [],
   "source": [
    "with open('t_k_.pickle', 'wb') as g:\n",
    "    pickle.dump(t_k_, g)"
>>>>>>> 1972a56dc58f6b99da72a0e771b4e1545836afc5
   ]
  },
  {
   "cell_type": "code",
<<<<<<< HEAD
   "execution_count": 76,
   "metadata": {},
   "outputs": [
    {
     "data": {
      "text/plain": [
       "'sanity check, replace 3 with 1,0,2, finding the time shifted samples that are distributed \\nin the sorted concatenated array'"
      ]
     },
     "execution_count": 76,
     "metadata": {},
     "output_type": "execute_result"
=======
   "execution_count": 136,
   "metadata": {},
   "outputs": [
    {
     "name": "stdout",
     "output_type": "stream",
     "text": [
      "f_k shape (5476,)\n",
      "f_k shape (579,)\n"
     ]
>>>>>>> 1972a56dc58f6b99da72a0e771b4e1545836afc5
    }
   ],
   "source": [
    "%run sinc.py"
   ]
  },
  {
   "cell_type": "code",
<<<<<<< HEAD
   "execution_count": 77,
=======
   "execution_count": 5,
>>>>>>> 1972a56dc58f6b99da72a0e771b4e1545836afc5
   "metadata": {},
   "outputs": [
    {
     "name": "stdout",
     "output_type": "stream",
     "text": [
      "0.0020807243988296485\n"
     ]
    }
   ],
   "source": [
<<<<<<< HEAD
    "# generating magnitudes\n",
    "f = generate_damped_RW(np.sort(sample), tau=tau, z=zs, SFinf=SFinf, xmean=xmean,random_state=5)\n",
    "# finding the magnitudes corresponding to each time shifted sample\n",
    "f_t0 = f[index0]\n",
    "f_t1 = f[index1]\n",
    "f_t2 = f[index2]\n",
    "f_t3 = f[index3]\n",
    "f_truth = f[index_truth]"
=======
    "%matplotlib qt\n",
    "%run gradient_descent_correction.py"
>>>>>>> 1972a56dc58f6b99da72a0e771b4e1545836afc5
   ]
  },
  {
   "cell_type": "code",
<<<<<<< HEAD
   "execution_count": 78,
   "metadata": {},
   "outputs": [],
   "source": [
    "%matplotlib qt\n",
    "\n",
    "#plt.plot(t_drive, f_truth, 'o', color='black', label='DRW- True')\n",
    "plt.plot(t_drive, f_t0+0.3, 'o', label='DRW1')  \n",
    "plt.plot(t_drive, f_t1+0.6, 'o',  label='DRW2')  \n",
    "plt.plot(t_drive ,f_t2+0.9, 'o', label='DRW3')  \n",
    "plt.plot(t_drive, f_t3+0.12, 'o', label='DRW4')  \n",
    "\n",
    "plt.xlabel('t (days)')\n",
    "plt.ylabel('Fraction Variation')\n",
    "plt.legend()\n",
    "plt.show()"
=======
   "execution_count": 4,
   "metadata": {},
   "outputs": [],
   "source": [
    "generate_damped_RW??"
>>>>>>> 1972a56dc58f6b99da72a0e771b4e1545836afc5
   ]
  },
  {
   "cell_type": "code",
   "execution_count": 57,
   "metadata": {},
   "outputs": [],
   "source": [
    "%matplotlib qt\n",
    "\n",
    "#plt.plot(t_drive, f_truth, color='black', label='DRW- True')\n",
    "plt.plot(t_drive+time_delay[0], f_t0, 'o', label='DRW1')  #+0.3\n",
    "plt.plot(t_drive+time_delay[1], f_t1, 'o',  label='DRW2')  #+0.6\n",
    "plt.plot(t_drive+time_delay[2] ,f_t2, 'o', label='DRW3')  #+0.9\n",
    "plt.plot(t_drive+time_delay[3], f_t3, 'o', label='DRW4')  #+0.12\n",
    "#plt.plot(t_s,f)\n",
    "\n",
    "plt.xlabel('t (days)')\n",
    "plt.ylabel('Fraction Variation')\n",
    "plt.legend()\n",
    "plt.show()"
   ]
  },
  {
   "cell_type": "code",
   "execution_count": 114,
   "metadata": {},
   "outputs": [],
   "source": [
    "min_ = np.ceil(np.min(t_drive+time_delay[0]))\n",
    "max_ = np.floor(np.max(t_drive+time_delay[2]))\n",
    "# current sampling\n",
    "t_s = np.sort(sample[0:5476])\n",
    "np.savetxt('t_s.txt',t_s)\n",
    "np.savetxt('f.txt',f)"
   ]
  },
  {
   "cell_type": "code",
   "execution_count": 185,
   "metadata": {},
   "outputs": [
    {
     "name": "stdout",
     "output_type": "stream",
     "text": [
      "checking the step 8.022491349480969\n"
     ]
    }
   ],
   "source": [
    "# creating the desired sampling t_k ,\n",
    "t_k_step = 8  # step for desired sampling\n",
    "t_k_ = np.linspace(min_,max_,np.int(np.abs((min_-max_)/t_k_step)),dtype=int,retstep=True)\n",
    "t_k = t_k_[0]\n",
    "h = t_k_[1]\n",
    "print('checking the step', h)"
   ]
  },
  {
   "cell_type": "code",
   "execution_count": 125,
   "metadata": {},
   "outputs": [],
   "source": [
    "with open('t_k_.pickle', 'wb') as g:\n",
    "    pickle.dump(t_k_, g)"
   ]
  },
  {
   "cell_type": "code",
   "execution_count": 136,
   "metadata": {},
   "outputs": [
    {
     "name": "stdout",
     "output_type": "stream",
     "text": [
      "f_k shape (5476,)\n",
      "f_k shape (579,)\n"
     ]
    }
   ],
   "source": [
    "%run sinc.py"
   ]
  },
  {
   "cell_type": "code",
   "execution_count": 184,
   "metadata": {},
   "outputs": [
    {
     "name": "stderr",
     "output_type": "stream",
     "text": [
      "/u/zaidouni/Desktop/quasar_project/gradient_descent.py:41: RuntimeWarning: invalid value encountered in matmul\n",
      "  X_new = X + mu*((A.T)@(Y-A@X))\n"
     ]
    }
   ],
   "source": [
    "%run gradient_descent.py"
   ]
  },
  {
   "cell_type": "code",
   "execution_count": null,
   "metadata": {},
   "outputs": [],
   "source": []
  }
 ],
 "metadata": {
  "kernelspec": {
   "display_name": "Python 3",
   "language": "python",
   "name": "python3"
  },
  "language_info": {
   "codemirror_mode": {
    "name": "ipython",
    "version": 3
   },
   "file_extension": ".py",
   "mimetype": "text/x-python",
   "name": "python",
   "nbconvert_exporter": "python",
   "pygments_lexer": "ipython3",
   "version": "3.7.3"
  }
 },
 "nbformat": 4,
 "nbformat_minor": 2
}
