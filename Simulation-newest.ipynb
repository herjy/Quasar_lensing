{
 "cells": [
  {
   "cell_type": "code",
   "execution_count": 69,
   "metadata": {},
   "outputs": [],
   "source": [
    "import numpy as np\n",
    "import matplotlib.pyplot as plt\n",
    "from scipy.optimize import curve_fit\n",
    "from math import *\n",
    "from astroML.time_series import generate_damped_RW\n",
    "import argparse\n",
    "import random\n",
    "#%matplotlib qt\n",
    "%matplotlib inline\n",
    "import sys\n",
    "np.set_printoptions(threshold=sys.maxsize)\n",
    "import pickle"
   ]
  },
  {
   "cell_type": "code",
   "execution_count": 70,
   "metadata": {
    "scrolled": true
   },
   "outputs": [],
   "source": [
    "data = np.loadtxt('RXJ1131_ALL.rdb',skiprows=2)\n",
    "data1=np.genfromtxt('HE0435_ECAM.rdb',skip_header=2)\n",
    "time = np.sort(np.concatenate((data[:,0],data1[:,0])))\n",
    "t_drive_new = np.loadtxt('t_drive_new.txt')"
   ]
  },
  {
   "cell_type": "code",
   "execution_count": 71,
   "metadata": {},
   "outputs": [],
   "source": [
    "'''simulating data using the sampling about as the time axis'''\n",
    "\n",
    "parser = argparse.ArgumentParser(formatter_class=argparse.ArgumentDefaultsHelpFormatter)\n",
    "parser.add_argument('--time_initial'  , '-ti  ', type=float, default=-365.        ,help='Set the initial time (default: t=-365 [day])')\n",
    "parser.add_argument('--time_final'    , '-tf  ', type=float, default=365.         ,help='Set the final time (default: t=365 [day])')\n",
    "parser.add_argument('--delta_time'    , '-dt  ', type=float, default=0.1          ,help='Set the time interval (default: dt=0.1 [day])')\n",
    "parser.add_argument('--fname'         , '-fn  ', type=str  , default='LC_DRW.txt' ,help='Set the output filename (default: LC_DRW.txt)')\n",
    "\n",
    "parser.add_argument('--tau'           , '-tau ', type=float, default=300          ,help='Set the relaxation time (default: tau=300)')\n",
    "parser.add_argument('--strc_func_inf' , '-sf  ', type=float, default=0.1          ,help='Set the structure function at infinity (default: SFinf=0.1)')\n",
    "parser.add_argument('--xmean'         , '-xmu ', type=float, default=1.           ,help='Set the mean value of random walk (default: Xmean=1.)')\n",
    "parser.add_argument('--ran_seed'      , '-sn  ', type=str  , default='123'        ,help='Set the random seed (r: random, snnn: random seed)')\n",
    "parser.add_argument('--redshift_src'  , '-zs'  , type=float, default=0.5          ,help='Set the redshift of source (default: zs=0.5)')\n",
    "\n",
    "parser.add_argument('--target_dir'    , '-td'  ,             default='.',          help='Set the output directory')\n",
    "\n",
    "\n",
    "args = parser.parse_args()\n",
    "\n",
    "ti = args.time_initial\n",
    "tf = args.time_final\n",
    "dt = args.delta_time\n",
    "fn = args.fname\n",
    "\n",
    "xmean = args.xmean\n",
    "tau = args.tau\n",
    "SFinf = args.strc_func_inf\n",
    "zs = args.redshift_src\n",
    "sn = args.ran_seed\n",
    "\n",
    "stem_out = args.target_dir\n",
    "\n",
    "\n",
    "if (sn == 'r'):\n",
    "    np.random.seed()\n",
    "else:\n",
    "    sn = int(sn)\n",
    "    np.random.seed(sn)\n"
   ]
  },
  {
   "cell_type": "code",
   "execution_count": 72,
   "metadata": {
    "scrolled": true
   },
   "outputs": [],
   "source": [
    "sn = np.random.randn(1)\n",
    "time_delay = np.random.rand(4)*15 # time delays: these are large, just to see effects throughout process\n",
    "\n",
    "t_drive = t_drive_new\n",
    "f_drive = generate_damped_RW(t_drive, tau=tau, z=zs, SFinf=SFinf, xmean=xmean,random_state=5)"
   ]
  },
  {
   "cell_type": "markdown",
   "metadata": {},
   "source": [
    "### Part 3"
   ]
  },
  {
   "cell_type": "code",
   "execution_count": 73,
   "metadata": {},
   "outputs": [],
   "source": [
    "# 0th image starts from 0 to 1368 in indices\n",
    "# 1st image starts from 1369 to 2737 in indices\n",
    "# 2nd image starts from 2738 to 4106 in indices\n",
    "# 3rd image starts from 4106 to 5475 in indices\n",
    "# true image starts from 5475 to 6844 in indices"
   ]
  },
  {
   "cell_type": "code",
   "execution_count": 74,
   "metadata": {},
   "outputs": [],
   "source": [
    "# concatenating all the shifted time samples\n",
    "sample = np.concatenate((t_drive+time_delay[0],t_drive+time_delay[1],t_drive+time_delay[2],t_drive+time_delay[3]))#t_drive))"
   ]
  },
  {
   "cell_type": "code",
   "execution_count": 75,
   "metadata": {},
   "outputs": [],
   "source": [
    "# gives the indices of time shifted samples within the sorted, concatenated array\n",
    "'''all that needs to be understood from this is that the sanity check will work, uncomment 2nd line of cell below to try'''\n",
    "index0 = []\n",
    "for i in range(1369):\n",
    "    index0.append(np.where(np.argsort(sample) == i))\n",
    "index0 = np.array(index0).flatten()\n",
    "\n",
    "index1 = []\n",
    "for i in range(1369,2738):\n",
    "    index1.append(np.where(np.argsort(sample) == i))\n",
    "index1 = np.array(index1).flatten()\n",
    "\n",
    "index2 = []\n",
    "for i in range(2738,4107):\n",
    "    index2.append(np.where(np.argsort(sample) == i))\n",
    "index2 = np.array(index2).flatten()\n",
    "\n",
    "index3 = []\n",
    "for i in range(4107,5476):\n",
    "    index3.append(np.where(np.argsort(sample) == i))\n",
    "index3 = np.array(index3).flatten()\n",
    "\n",
    "index_truth = []\n",
    "for i in range(5476,6845):\n",
    "    index_truth.append(np.where(np.argsort(sample) == i))\n",
    "index_truth = np.array(index_truth).flatten()"
   ]
  },
  {
   "cell_type": "code",
   "execution_count": 76,
   "metadata": {},
   "outputs": [
    {
     "data": {
      "text/plain": [
       "'sanity check, replace 3 with 1,0,2, finding the time shifted samples that are distributed \\nin the sorted concatenated array'"
      ]
     },
     "execution_count": 76,
     "metadata": {},
     "output_type": "execute_result"
    }
   ],
   "source": [
    "'''sanity check, replace 3 with 1,0,2, finding the time shifted samples that are distributed \n",
    "in the sorted concatenated array'''\n",
    "#np.sort(sample)[index3] == (t_drive+time_delay[3])"
   ]
  },
  {
   "cell_type": "code",
   "execution_count": 77,
   "metadata": {},
   "outputs": [],
   "source": [
    "# generating magnitudes\n",
    "f = generate_damped_RW(np.sort(sample), tau=tau, z=zs, SFinf=SFinf, xmean=xmean,random_state=5)\n",
    "# finding the magnitudes corresponding to each time shifted sample\n",
    "f_t0 = f[index0]\n",
    "f_t1 = f[index1]\n",
    "f_t2 = f[index2]\n",
    "f_t3 = f[index3]\n",
    "f_truth = f[index_truth]"
   ]
  },
  {
   "cell_type": "code",
   "execution_count": 78,
   "metadata": {},
   "outputs": [],
   "source": [
    "%matplotlib qt\n",
    "\n",
    "#plt.plot(t_drive, f_truth, 'o', color='black', label='DRW- True')\n",
    "plt.plot(t_drive, f_t0+0.3, 'o', label='DRW1')  \n",
    "plt.plot(t_drive, f_t1+0.6, 'o',  label='DRW2')  \n",
    "plt.plot(t_drive ,f_t2+0.9, 'o', label='DRW3')  \n",
    "plt.plot(t_drive, f_t3+0.12, 'o', label='DRW4')  \n",
    "\n",
    "plt.xlabel('t (days)')\n",
    "plt.ylabel('Fraction Variation')\n",
    "plt.legend()\n",
    "plt.show()"
   ]
  },
  {
   "cell_type": "code",
   "execution_count": 57,
   "metadata": {},
   "outputs": [],
   "source": [
    "%matplotlib qt\n",
    "\n",
    "#plt.plot(t_drive, f_truth, color='black', label='DRW- True')\n",
    "plt.plot(t_drive+time_delay[0], f_t0, 'o', label='DRW1')  #+0.3\n",
    "plt.plot(t_drive+time_delay[1], f_t1, 'o',  label='DRW2')  #+0.6\n",
    "plt.plot(t_drive+time_delay[2] ,f_t2, 'o', label='DRW3')  #+0.9\n",
    "plt.plot(t_drive+time_delay[3], f_t3, 'o', label='DRW4')  #+0.12\n",
    "#plt.plot(t_s,f)\n",
    "\n",
    "plt.xlabel('t (days)')\n",
    "plt.ylabel('Fraction Variation')\n",
    "plt.legend()\n",
    "plt.show()"
   ]
  },
  {
   "cell_type": "code",
   "execution_count": 114,
   "metadata": {},
   "outputs": [],
   "source": [
    "min_ = np.ceil(np.min(t_drive+time_delay[0]))\n",
    "max_ = np.floor(np.max(t_drive+time_delay[2]))\n",
    "# current sampling\n",
    "t_s = np.sort(sample[0:5476])\n",
    "np.savetxt('t_s.txt',t_s)\n",
    "np.savetxt('f.txt',f)"
   ]
  },
  {
   "cell_type": "code",
   "execution_count": 124,
   "metadata": {},
   "outputs": [
    {
     "name": "stdout",
     "output_type": "stream",
     "text": [
      "checking the step size 8.022491349480969\n"
     ]
    }
   ],
   "source": [
    "# creating the desired sampling t_k ,\n",
    "t_k_step = 8  # step for desired sampling\n",
    "t_k_ = np.linspace(min_,max_,np.int(np.abs((min_-max_)/t_k_step)),dtype=int,retstep=True)\n",
    "t_k = t_k_[0]\n",
    "h = t_k_[1]\n",
    "print('checking the step size', h)"
   ]
  },
  {
   "cell_type": "code",
   "execution_count": 125,
   "metadata": {},
   "outputs": [],
   "source": [
    "with open('t_k_.pickle', 'wb') as g:\n",
    "    pickle.dump(t_k_, g)"
   ]
  },
  {
   "cell_type": "code",
   "execution_count": 136,
   "metadata": {},
   "outputs": [
    {
     "name": "stdout",
     "output_type": "stream",
     "text": [
      "f_k shape (5476,)\n",
      "f_k shape (579,)\n"
     ]
    }
   ],
   "source": [
    "%run sinc.py"
   ]
  },
  {
   "cell_type": "code",
   "execution_count": 184,
   "metadata": {},
   "outputs": [
    {
     "name": "stderr",
     "output_type": "stream",
     "text": [
      "/u/zaidouni/Desktop/quasar_project/gradient_descent.py:41: RuntimeWarning: invalid value encountered in matmul\n",
      "  X_new = X + mu*((A.T)@(Y-A@X))\n"
     ]
    }
   ],
   "source": [
    "%run gradient_descent.py"
   ]
  },
  {
   "cell_type": "code",
   "execution_count": null,
   "metadata": {},
   "outputs": [],
   "source": []
  }
 ],
 "metadata": {
  "kernelspec": {
   "display_name": "Python 3",
   "language": "python",
   "name": "python3"
  },
  "language_info": {
   "codemirror_mode": {
    "name": "ipython",
    "version": 3
   },
   "file_extension": ".py",
   "mimetype": "text/x-python",
   "name": "python",
   "nbconvert_exporter": "python",
   "pygments_lexer": "ipython3",
   "version": "3.7.3"
  }
 },
 "nbformat": 4,
 "nbformat_minor": 2
}
